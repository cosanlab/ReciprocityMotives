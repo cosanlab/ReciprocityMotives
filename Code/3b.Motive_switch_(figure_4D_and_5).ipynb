{
 "cells": [
  {
   "cell_type": "markdown",
   "metadata": {},
   "source": [
    "Code for clustering participants in the HMTG follow-ups based on the moral phenotype model"
   ]
  },
  {
   "cell_type": "code",
   "execution_count": 1,
   "metadata": {},
   "outputs": [
    {
     "name": "stdout",
     "output_type": "stream",
     "text": [
      "/Users/jeroen/Dropbox (Brown)/PhD/0. Working folder/HMTG_followUp_final/ShareDataCode\n",
      "/Users/jeroen/Dropbox (Brown)/PhD/0. Working folder/HMTG_followUp_final/ShareDataCode/Code/Functions\n"
     ]
    }
   ],
   "source": [
    "%matplotlib inline\n",
    "\n",
    "# Packages\n",
    "import os, glob, scipy, sys\n",
    "import numpy as np\n",
    "import pandas as pd\n",
    "import matplotlib.pyplot as plt\n",
    "import seaborn as sns\n",
    "\n",
    "# Project directory\n",
    "base_dir = os.path.realpath('..')\n",
    "print(base_dir)\n",
    "\n",
    "# Project-specific functions\n",
    "funDir = os.path.join(base_dir,'Code/Functions')\n",
    "print(funDir)\n",
    "sys.path.append(funDir)\n",
    "import choiceModels, costFunctions, penalizedModelFit, simulateModel\n",
    "\n",
    "# General-use python functions\n",
    "dbPath = '/'.join(base_dir.split('/')[0:4])\n",
    "sys.path.append('%s/Python'%dbPath)\n",
    "import FigureTools"
   ]
  },
  {
   "cell_type": "markdown",
   "metadata": {},
   "source": [
    "## Compare frequencies across contexts"
   ]
  },
  {
   "cell_type": "code",
   "execution_count": 3,
   "metadata": {
    "scrolled": false
   },
   "outputs": [
    {
     "data": {
      "text/html": [
       "<div>\n",
       "<style scoped>\n",
       "    .dataframe tbody tr th:only-of-type {\n",
       "        vertical-align: middle;\n",
       "    }\n",
       "\n",
       "    .dataframe tbody tr th {\n",
       "        vertical-align: top;\n",
       "    }\n",
       "\n",
       "    .dataframe thead th {\n",
       "        text-align: right;\n",
       "    }\n",
       "</style>\n",
       "<table border=\"1\" class=\"dataframe\">\n",
       "  <thead>\n",
       "    <tr style=\"text-align: right;\">\n",
       "      <th></th>\n",
       "      <th>sub</th>\n",
       "      <th>x4</th>\n",
       "      <th>x6</th>\n",
       "    </tr>\n",
       "  </thead>\n",
       "  <tbody>\n",
       "    <tr>\n",
       "      <th>0</th>\n",
       "      <td>1</td>\n",
       "      <td>MO</td>\n",
       "      <td>MO</td>\n",
       "    </tr>\n",
       "    <tr>\n",
       "      <th>1</th>\n",
       "      <td>2</td>\n",
       "      <td>GR</td>\n",
       "      <td>GR</td>\n",
       "    </tr>\n",
       "    <tr>\n",
       "      <th>2</th>\n",
       "      <td>3</td>\n",
       "      <td>MO</td>\n",
       "      <td>IA</td>\n",
       "    </tr>\n",
       "    <tr>\n",
       "      <th>3</th>\n",
       "      <td>4</td>\n",
       "      <td>IA</td>\n",
       "      <td>IA</td>\n",
       "    </tr>\n",
       "    <tr>\n",
       "      <th>4</th>\n",
       "      <td>5</td>\n",
       "      <td>IA</td>\n",
       "      <td>IA</td>\n",
       "    </tr>\n",
       "  </tbody>\n",
       "</table>\n",
       "</div>"
      ],
      "text/plain": [
       "   sub  x4  x6\n",
       "0    1  MO  MO\n",
       "1    2  GR  GR\n",
       "2    3  MO  IA\n",
       "3    4  IA  IA\n",
       "4    5  IA  IA"
      ]
     },
     "execution_count": 3,
     "metadata": {},
     "output_type": "execute_result"
    }
   ],
   "source": [
    "params_4 = pd.read_csv(os.path.join(base_dir,'Data/Study1/ComputationalModel',\n",
    "                'ParamsClusters_study-1_baseMult-4_model-MP_ppSOE_precision-100.csv'),index_col=0)\n",
    "params_6 = pd.read_csv(os.path.join(base_dir,'Data/Study1/ComputationalModel',\n",
    "                'ParamsClusters_study-1_baseMult-6_model-MP_ppSOE_precision-100.csv'),index_col=0)\n",
    "exclude = np.array(pd.read_csv(os.path.join(base_dir,'Data/Study1/HMTG/exclude.csv'),index_col=None,header=None).T)[0]\n",
    "params = params_4[['sub','ClustName']].merge(params_6[['sub','ClustName']],on='sub',suffixes=['_4','_6'])\n",
    "params.columns = ['sub','x4','x6']\n",
    "params = params.loc[~params['sub'].isin(exclude)]\n",
    "params.head()"
   ]
  },
  {
   "cell_type": "code",
   "execution_count": 4,
   "metadata": {},
   "outputs": [
    {
     "name": "stdout",
     "output_type": "stream",
     "text": [
      "     GA    GR    IA    MO\n",
      "x4                       \n",
      "GA  4.0   0.0   2.0   2.0\n",
      "GR  0.0  14.0   0.0   1.0\n",
      "IA  3.0   0.0  22.0   6.0\n",
      "MO  1.0   4.0   9.0  34.0\n"
     ]
    }
   ],
   "source": [
    "clusts = np.sort(np.unique(params['x4']))\n",
    "squareTable = np.zeros([len(clusts),len(clusts)])\n",
    "for rowInd,rowName in enumerate(clusts):\n",
    "    for colInd,colName in enumerate(clusts):\n",
    "        squareTable[rowInd,colInd] = sum((params['x4']==rowName) & (params['x6']==colName))\n",
    "squareTable = pd.DataFrame(squareTable,columns=clusts)\n",
    "squareTable['x4'] = clusts\n",
    "squareTable = squareTable.set_index('x4')\n",
    "print (squareTable)"
   ]
  },
  {
   "cell_type": "code",
   "execution_count": 5,
   "metadata": {},
   "outputs": [
    {
     "data": {
      "text/html": [
       "<div>\n",
       "<style scoped>\n",
       "    .dataframe tbody tr th:only-of-type {\n",
       "        vertical-align: middle;\n",
       "    }\n",
       "\n",
       "    .dataframe tbody tr th {\n",
       "        vertical-align: top;\n",
       "    }\n",
       "\n",
       "    .dataframe thead th {\n",
       "        text-align: right;\n",
       "    }\n",
       "</style>\n",
       "<table border=\"1\" class=\"dataframe\">\n",
       "  <thead>\n",
       "    <tr style=\"text-align: right;\">\n",
       "      <th></th>\n",
       "      <th>GA</th>\n",
       "      <th>GR</th>\n",
       "      <th>IA</th>\n",
       "      <th>MO</th>\n",
       "    </tr>\n",
       "    <tr>\n",
       "      <th>x4</th>\n",
       "      <th></th>\n",
       "      <th></th>\n",
       "      <th></th>\n",
       "      <th></th>\n",
       "    </tr>\n",
       "  </thead>\n",
       "  <tbody>\n",
       "    <tr>\n",
       "      <th>GA</th>\n",
       "      <td>50.000000</td>\n",
       "      <td>0.000000</td>\n",
       "      <td>25.000000</td>\n",
       "      <td>25.000000</td>\n",
       "    </tr>\n",
       "    <tr>\n",
       "      <th>GR</th>\n",
       "      <td>0.000000</td>\n",
       "      <td>93.333333</td>\n",
       "      <td>0.000000</td>\n",
       "      <td>6.666667</td>\n",
       "    </tr>\n",
       "    <tr>\n",
       "      <th>IA</th>\n",
       "      <td>9.677419</td>\n",
       "      <td>0.000000</td>\n",
       "      <td>70.967742</td>\n",
       "      <td>19.354839</td>\n",
       "    </tr>\n",
       "    <tr>\n",
       "      <th>MO</th>\n",
       "      <td>2.083333</td>\n",
       "      <td>8.333333</td>\n",
       "      <td>18.750000</td>\n",
       "      <td>70.833333</td>\n",
       "    </tr>\n",
       "  </tbody>\n",
       "</table>\n",
       "</div>"
      ],
      "text/plain": [
       "           GA         GR         IA         MO\n",
       "x4                                            \n",
       "GA  50.000000   0.000000  25.000000  25.000000\n",
       "GR   0.000000  93.333333   0.000000   6.666667\n",
       "IA   9.677419   0.000000  70.967742  19.354839\n",
       "MO   2.083333   8.333333  18.750000  70.833333"
      ]
     },
     "execution_count": 5,
     "metadata": {},
     "output_type": "execute_result"
    }
   ],
   "source": [
    "sums_x4 = np.tile(np.sum(squareTable,axis=1).values,[4,1]).T\n",
    "squareTable_share = squareTable / sums_x4 * 100\n",
    "squareTable_share"
   ]
  },
  {
   "cell_type": "code",
   "execution_count": 6,
   "metadata": {},
   "outputs": [
    {
     "data": {
      "image/png": "[encoded data removed]",
      "text/plain": [
       "<Figure size 432x288 with 2 Axes>"
      ]
     },
     "metadata": {
      "needs_background": "light"
     },
     "output_type": "display_data"
    }
   ],
   "source": [
    "sns.heatmap(squareTable_share,square=True,cmap='Greys',\n",
    "           cbar_kws={'label': 'Percentage'})\n",
    "plt.xlabel('x4-x6-x8')\n",
    "plt.ylabel('x2-x4-x6')\n",
    "plt.title('Contextual strategy shift (study 1)')\n",
    "plt.savefig(base_dir + '/Results/Figure4D.pdf',bbox_inches='tight')"
   ]
  },
  {
   "cell_type": "code",
   "execution_count": 7,
   "metadata": {},
   "outputs": [
    {
     "name": "stdout",
     "output_type": "stream",
     "text": [
      "1.7075812274368205 0.6352496325964228 3\n"
     ]
    }
   ],
   "source": [
    "# Test for difference in distributions across contexts:\n",
    "import statsmodels.api as sm\n",
    "sqtab = sm.stats.SquareTable(squareTable)\n",
    "stats = sqtab.homogeneity(method='stuart_maxwell')\n",
    "print (stats.statistic,stats.pvalue,stats.df)\n",
    "# ...but gives the same result"
   ]
  },
  {
   "cell_type": "code",
   "execution_count": 8,
   "metadata": {},
   "outputs": [
    {
     "name": "stdout",
     "output_type": "stream",
     "text": [
      "     GA    MO\n",
      "x4           \n",
      "GA  4.0   2.0\n",
      "MO  1.0  34.0\n",
      "0.33333333333333387 0.5637028616507727 1\n"
     ]
    }
   ],
   "source": [
    "# GA and MO only:\n",
    "a = squareTable.loc[['GA','MO'],['GA','MO']]\n",
    "print (a)\n",
    "sqtab = sm.stats.SquareTable(a)\n",
    "stats = sqtab.homogeneity(method='stuart_maxwell')\n",
    "print (stats.statistic,stats.pvalue,stats.df)"
   ]
  },
  {
   "cell_type": "markdown",
   "metadata": {},
   "source": [
    "## Compare strategies between studies"
   ]
  },
  {
   "cell_type": "code",
   "execution_count": 9,
   "metadata": {},
   "outputs": [
    {
     "data": {
      "text/html": [
       "<div>\n",
       "<style scoped>\n",
       "    .dataframe tbody tr th:only-of-type {\n",
       "        vertical-align: middle;\n",
       "    }\n",
       "\n",
       "    .dataframe tbody tr th {\n",
       "        vertical-align: top;\n",
       "    }\n",
       "\n",
       "    .dataframe thead th {\n",
       "        text-align: right;\n",
       "    }\n",
       "</style>\n",
       "<table border=\"1\" class=\"dataframe\">\n",
       "  <thead>\n",
       "    <tr style=\"text-align: right;\">\n",
       "      <th></th>\n",
       "      <th>sub</th>\n",
       "      <th>ClustName</th>\n",
       "    </tr>\n",
       "  </thead>\n",
       "  <tbody>\n",
       "    <tr>\n",
       "      <th>34</th>\n",
       "      <td>188</td>\n",
       "      <td>GA</td>\n",
       "    </tr>\n",
       "    <tr>\n",
       "      <th>33</th>\n",
       "      <td>187</td>\n",
       "      <td>GA</td>\n",
       "    </tr>\n",
       "    <tr>\n",
       "      <th>3</th>\n",
       "      <td>155</td>\n",
       "      <td>GA</td>\n",
       "    </tr>\n",
       "    <tr>\n",
       "      <th>4</th>\n",
       "      <td>156</td>\n",
       "      <td>GA</td>\n",
       "    </tr>\n",
       "    <tr>\n",
       "      <th>45</th>\n",
       "      <td>199</td>\n",
       "      <td>GA</td>\n",
       "    </tr>\n",
       "  </tbody>\n",
       "</table>\n",
       "</div>"
      ],
      "text/plain": [
       "    sub ClustName\n",
       "34  188        GA\n",
       "33  187        GA\n",
       "3   155        GA\n",
       "4   156        GA\n",
       "45  199        GA"
      ]
     },
     "execution_count": 9,
     "metadata": {},
     "output_type": "execute_result"
    }
   ],
   "source": [
    "params_1_4 = pd.read_csv(os.path.join(base_dir,'Data/Study1/ComputationalModel',\n",
    "                'ParamsClusters_study-1_baseMult-4_model-MP_ppSOE_precision-100.csv'),index_col=0)[\n",
    "    ['sub','ClustName']].sort_values(by='ClustName')\n",
    "exclude = np.array(pd.read_csv(os.path.join(base_dir,'Data/Study1/HMTG/exclude.csv'),index_col=None,header=None).T)[0]\n",
    "params_1_4 = params_1_4.loc[~params_1_4['sub'].isin(exclude)]\n",
    "params_2 = pd.read_csv(os.path.join(base_dir,'Data/Study2/ComputationalModel',\n",
    "               'ParamsClusters_study-2_model-MP_ppSOE_precision-100.csv'),index_col=0)[\n",
    "    ['sub','ClustName']].sort_values(by='ClustName')\n",
    "exclude = np.array(pd.read_csv(os.path.join(base_dir,'Data/Study2/HMTG/exclude.csv'),index_col=0,header=0).T)[0]\n",
    "params_2 = params_2.loc[~params_2['sub'].isin(exclude)]\n",
    "params_2.head()"
   ]
  },
  {
   "cell_type": "code",
   "execution_count": 10,
   "metadata": {},
   "outputs": [],
   "source": [
    "freq_1_4 = pd.DataFrame(params_1_4['ClustName'].value_counts()).reset_index()\n",
    "freq_2 = pd.DataFrame(params_2['ClustName'].value_counts()).reset_index()"
   ]
  },
  {
   "cell_type": "code",
   "execution_count": 11,
   "metadata": {},
   "outputs": [
    {
     "name": "stdout",
     "output_type": "stream",
     "text": [
      "          Study 1  Study 2\n",
      "Strategy                  \n",
      "MO             48       25\n",
      "IA             31       17\n",
      "GR             15        2\n",
      "GA              8       11\n",
      "            Study 1    Study 2\n",
      "Strategy                      \n",
      "MO        47.058824  45.454545\n",
      "IA        30.392157  30.909091\n",
      "GR        14.705882   3.636364\n",
      "GA         7.843137  20.000000\n"
     ]
    }
   ],
   "source": [
    "contingencyTable = freq_1_4.merge(freq_2,on='index')\n",
    "contingencyTable.columns = ['Strategy','Study 1','Study 2']\n",
    "contingencyTable = contingencyTable.set_index('Strategy')\n",
    "contingencyTable_percentage = contingencyTable.copy()\n",
    "for i in range(len(contingencyTable_percentage.columns)):\n",
    "    contingencyTable_percentage.iloc[:,i] = (contingencyTable_percentage.iloc[:,i]/\n",
    "                                             np.sum(contingencyTable_percentage.iloc[:,i])*100)\n",
    "print (contingencyTable)\n",
    "print (contingencyTable_percentage)"
   ]
  },
  {
   "cell_type": "code",
   "execution_count": 30,
   "metadata": {},
   "outputs": [],
   "source": [
    "# Bar draw order\n",
    "desiredOrder = ['GR','GA','IA','MO']\n",
    "barStackOrder = ['MO','IA','GA','GR']\n",
    "\n",
    "# Color map\n",
    "nclust = len(desiredOrder)\n",
    "cmapje = sns.color_palette('tab10',nclust)\n",
    "bgMixFactor = 1\n",
    "bg_cmap = [((a[0]*bgMixFactor+1)/(bgMixFactor+1),(a[1]*bgMixFactor+1)/(bgMixFactor+1),(a[2]*bgMixFactor+1)/(bgMixFactor+1)) for a in cmapje]"
   ]
  },
  {
   "cell_type": "code",
   "execution_count": 26,
   "metadata": {},
   "outputs": [
    {
     "data": {
      "image/png": "[encoded data removed]",
      "text/plain": [
       "<Figure size 432x288 with 1 Axes>"
      ]
     },
     "metadata": {},
     "output_type": "display_data"
    }
   ],
   "source": [
    "color_indices = [int(desiredOrder.index(contingencyTable_percentage.index[i])) for i in range(4)]\n",
    "from matplotlib.colors import ListedColormap\n",
    "colormap_stackedbar = ListedColormap([bg_cmap[color_indices[i]] for i in range(4)])\n",
    "ax = contingencyTable_percentage.T.plot(kind='bar',stacked=True, colormap=colormap_stackedbar)\n",
    "plt.legend(loc=[1.1,.5])\n",
    "ax.set_xticklabels(contingencyTable_percentage.columns,rotation=0)\n",
    "plt.title('Strategy distribution (x2-x4-x6)')\n",
    "plt.ylabel('Percentage');"
   ]
  },
  {
   "cell_type": "code",
   "execution_count": 13,
   "metadata": {},
   "outputs": [
    {
     "name": "stdout",
     "output_type": "stream",
     "text": [
      "[[48 31 15  8]\n",
      " [25 17  2 11]]\n",
      "Chi-square = 8.43, df = 3, p = 0.0379\n"
     ]
    }
   ],
   "source": [
    "obs = np.array(contingencyTable.T)\n",
    "print (obs)\n",
    "out = scipy.stats.chi2_contingency(obs)\n",
    "print ('Chi-square = %.2f, df = %i, p = %.4f'%(out[0],out[2],out[1]))"
   ]
  },
  {
   "cell_type": "code",
   "execution_count": 14,
   "metadata": {},
   "outputs": [
    {
     "name": "stdout",
     "output_type": "stream",
     "text": [
      "[[ 8 31]\n",
      " [11 17]]\n",
      "Chi-square = 1.98, df = 1, p = 0.1595\n"
     ]
    }
   ],
   "source": [
    "obs = np.array(contingencyTable.loc[['GA','IA'],:].T)\n",
    "print (obs)\n",
    "out = scipy.stats.chi2_contingency(obs)\n",
    "print ('Chi-square = %.2f, df = %i, p = %.4f'%(out[0],out[2],out[1]))"
   ]
  },
  {
   "cell_type": "code",
   "execution_count": 15,
   "metadata": {},
   "outputs": [
    {
     "name": "stdout",
     "output_type": "stream",
     "text": [
      "[[ 8 48]\n",
      " [11 25]]\n",
      "Chi-square = 2.62, df = 1, p = 0.1058\n"
     ]
    }
   ],
   "source": [
    "obs = np.array(contingencyTable.loc[['GA','MO'],:].T)\n",
    "print (obs)\n",
    "out = scipy.stats.chi2_contingency(obs)\n",
    "print ('Chi-square = %.2f, df = %i, p = %.4f'%(out[0],out[2],out[1]))"
   ]
  },
  {
   "cell_type": "code",
   "execution_count": 16,
   "metadata": {},
   "outputs": [
    {
     "name": "stdout",
     "output_type": "stream",
     "text": [
      "[[ 8 15]\n",
      " [11  2]]\n",
      "Chi-square = 6.40, df = 1, p = 0.0114\n"
     ]
    }
   ],
   "source": [
    "obs = np.array(contingencyTable.loc[['GA','GR'],:].T)\n",
    "print (obs)\n",
    "out = scipy.stats.chi2_contingency(obs)\n",
    "print ('Chi-square = %.2f, df = %i, p = %.4f'%(out[0],out[2],out[1]))"
   ]
  },
  {
   "cell_type": "code",
   "execution_count": 17,
   "metadata": {
    "scrolled": true
   },
   "outputs": [
    {
     "name": "stdout",
     "output_type": "stream",
     "text": [
      "['GA', 'IA']\n",
      "Chi-square = 1.98, df = 1, p = 0.1595, p_corr = 0.9571\n",
      "['GA', 'MO']\n",
      "Chi-square = 2.62, df = 1, p = 0.1058, p_corr = 0.6345\n",
      "['GA', 'GR']\n",
      "Chi-square = 6.40, df = 1, p = 0.0114, p_corr = 0.0686\n",
      "['IA', 'MO']\n",
      "Chi-square = 0.00, df = 1, p = 0.9498, p_corr = 5.6990\n",
      "['GR', 'IA']\n",
      "Chi-square = 2.35, df = 1, p = 0.1255, p_corr = 0.7528\n",
      "['GR', 'MO']\n",
      "Chi-square = 2.33, df = 1, p = 0.1265, p_corr = 0.7592\n"
     ]
    }
   ],
   "source": [
    "# Which pairwise difference is driving the omnibus effect?\n",
    "import itertools\n",
    "groups = ['GA','IA','MO','GR']\n",
    "combinations = []\n",
    "for element in itertools.product(groups,groups):\n",
    "    if (element[0] != element[1]) & (list(np.sort(element)) not in combinations):\n",
    "        combinations = combinations + [list(np.sort(element))]\n",
    "# print combinations\n",
    "for comb in combinations:\n",
    "    obs = np.array(contingencyTable.loc[comb,:].T)\n",
    "    print (comb)\n",
    "    out = scipy.stats.chi2_contingency(obs)\n",
    "    print ('Chi-square = %.2f, df = %i, p = %.4f, p_corr = %.4f'%(out[0],out[2],out[1], out[1]*6))"
   ]
  },
  {
   "cell_type": "markdown",
   "metadata": {},
   "source": [
    "##### Compare with fMRI dataset"
   ]
  },
  {
   "cell_type": "code",
   "execution_count": 18,
   "metadata": {},
   "outputs": [
    {
     "name": "stdout",
     "output_type": "stream",
     "text": [
      "[[21 24  7  5]\n",
      " [25 17  2 11]]\n",
      "Chi-square = 6.54, df = 3, p = 0.0882\n"
     ]
    }
   ],
   "source": [
    "obs = np.array([[21,24,7,5],[25,17,2,11]])\n",
    "print (obs)\n",
    "out = scipy.stats.chi2_contingency(obs)\n",
    "print ('Chi-square = %.2f, df = %i, p = %.4f'%(out[0],out[2],out[1]))"
   ]
  },
  {
   "cell_type": "code",
   "execution_count": 19,
   "metadata": {},
   "outputs": [
    {
     "name": "stdout",
     "output_type": "stream",
     "text": [
      "[[0, 1], [0, 2], [0, 3], [1, 2], [1, 3], [2, 3]]\n",
      "[0, 1]\n",
      "Chi-square = 0.97, df = 1, p = 0.3243, p_corr = 1.9460\n",
      "[0, 2]\n",
      "Chi-square = 1.96, df = 1, p = 0.1620, p_corr = 0.9717\n",
      "[0, 3]\n",
      "Chi-square = 0.51, df = 1, p = 0.4768, p_corr = 2.8606\n",
      "[1, 2]\n",
      "Chi-square = 0.49, df = 1, p = 0.4854, p_corr = 2.9122\n",
      "[1, 3]\n",
      "Chi-square = 2.42, df = 1, p = 0.1195, p_corr = 0.7171\n",
      "[2, 3]\n",
      "Chi-square = 3.31, df = 1, p = 0.0690, p_corr = 0.4143\n"
     ]
    }
   ],
   "source": [
    "import itertools\n",
    "groups = np.arange(4)\n",
    "combinations = []\n",
    "for element in itertools.product(groups,groups):\n",
    "    if (element[0] != element[1]) & (list(np.sort(element)) not in combinations):\n",
    "        combinations = combinations + [list(np.sort(element))]\n",
    "print (combinations)\n",
    "for comb in combinations:\n",
    "    print (comb)\n",
    "    out = scipy.stats.chi2_contingency(obs[:,comb])\n",
    "    print ('Chi-square = %.2f, df = %i, p = %.4f, p_corr = %.4f'%(out[0],out[2],out[1], out[1]*6))"
   ]
  },
  {
   "cell_type": "markdown",
   "metadata": {
    "collapsed": true
   },
   "source": [
    "##### Plot including previous results"
   ]
  },
  {
   "cell_type": "code",
   "execution_count": 20,
   "metadata": {},
   "outputs": [],
   "source": [
    "contingencyTable_percentage = contingencyTable.copy()\n",
    "for i in range(len(contingencyTable_percentage.columns)):\n",
    "    contingencyTable_percentage.iloc[:,i] = (contingencyTable_percentage.iloc[:,i]/\n",
    "                                             np.sum(contingencyTable_percentage.iloc[:,i])*100)\n",
    "contingencyTable_percentage['fMRI dataset'] = np.array([21, 24, 7,5])/sum([21,24,7,5])*100\n",
    "contingencyTable_percentage = contingencyTable_percentage[['fMRI dataset','Study 1', 'Study 2']]\n",
    "contingencyTable_percentage.columns = ['fMRI dataset\\nVan Baar et al.\\n(2019)\\n\\nHMTG\\nx2/x4/x6',\n",
    "                                       'Study 1\\n\\n\\n\\nHMTG\\nx2/x4/x6', \n",
    "                                       'Study 2\\n\\n\\n\\nFBMTG\\nx2/x4/x6']"
   ]
  },
  {
   "cell_type": "code",
   "execution_count": 21,
   "metadata": {},
   "outputs": [
    {
     "data": {
      "text/html": [
       "<div>\n",
       "<style scoped>\n",
       "    .dataframe tbody tr th:only-of-type {\n",
       "        vertical-align: middle;\n",
       "    }\n",
       "\n",
       "    .dataframe tbody tr th {\n",
       "        vertical-align: top;\n",
       "    }\n",
       "\n",
       "    .dataframe thead th {\n",
       "        text-align: right;\n",
       "    }\n",
       "</style>\n",
       "<table border=\"1\" class=\"dataframe\">\n",
       "  <thead>\n",
       "    <tr style=\"text-align: right;\">\n",
       "      <th></th>\n",
       "      <th>fMRI dataset\\nVan Baar et al.\\n(2019)\\n\\nHMTG\\nx2/x4/x6</th>\n",
       "      <th>Study 1\\n\\n\\n\\nHMTG\\nx2/x4/x6</th>\n",
       "      <th>Study 2\\n\\n\\n\\nFBMTG\\nx2/x4/x6</th>\n",
       "    </tr>\n",
       "    <tr>\n",
       "      <th>Strategy</th>\n",
       "      <th></th>\n",
       "      <th></th>\n",
       "      <th></th>\n",
       "    </tr>\n",
       "  </thead>\n",
       "  <tbody>\n",
       "    <tr>\n",
       "      <th>MO</th>\n",
       "      <td>36.842105</td>\n",
       "      <td>47.058824</td>\n",
       "      <td>45.454545</td>\n",
       "    </tr>\n",
       "    <tr>\n",
       "      <th>IA</th>\n",
       "      <td>42.105263</td>\n",
       "      <td>30.392157</td>\n",
       "      <td>30.909091</td>\n",
       "    </tr>\n",
       "    <tr>\n",
       "      <th>GR</th>\n",
       "      <td>12.280702</td>\n",
       "      <td>14.705882</td>\n",
       "      <td>3.636364</td>\n",
       "    </tr>\n",
       "    <tr>\n",
       "      <th>GA</th>\n",
       "      <td>8.771930</td>\n",
       "      <td>7.843137</td>\n",
       "      <td>20.000000</td>\n",
       "    </tr>\n",
       "  </tbody>\n",
       "</table>\n",
       "</div>"
      ],
      "text/plain": [
       "          fMRI dataset\\nVan Baar et al.\\n(2019)\\n\\nHMTG\\nx2/x4/x6  \\\n",
       "Strategy                                                            \n",
       "MO                                                36.842105         \n",
       "IA                                                42.105263         \n",
       "GR                                                12.280702         \n",
       "GA                                                 8.771930         \n",
       "\n",
       "          Study 1\\n\\n\\n\\nHMTG\\nx2/x4/x6  Study 2\\n\\n\\n\\nFBMTG\\nx2/x4/x6  \n",
       "Strategy                                                                 \n",
       "MO                            47.058824                       45.454545  \n",
       "IA                            30.392157                       30.909091  \n",
       "GR                            14.705882                        3.636364  \n",
       "GA                             7.843137                       20.000000  "
      ]
     },
     "execution_count": 21,
     "metadata": {},
     "output_type": "execute_result"
    }
   ],
   "source": [
    "contingencyTable_percentage"
   ]
  },
  {
   "cell_type": "code",
   "execution_count": 29,
   "metadata": {},
   "outputs": [
    {
     "data": {
      "image/png": "[encoded data removed]",
      "text/plain": [
       "<Figure size 504x360 with 1 Axes>"
      ]
     },
     "metadata": {},
     "output_type": "display_data"
    }
   ],
   "source": [
    "sns.set_style('darkgrid', {\"axes.facecolor\": \".95\"})\n",
    "sns.set_context('talk')\n",
    "color_indices = [int(desiredOrder.index(contingencyTable_percentage.index[i])) for i in range(4)]\n",
    "from matplotlib.colors import ListedColormap\n",
    "colormap_stackedbar = ListedColormap([bg_cmap[color_indices[i]] for i in range(4)])\n",
    "ax = contingencyTable_percentage.T.plot(kind='bar',stacked=True, colormap=colormap_stackedbar,\n",
    "                                       lw=0,figsize=[7,5])\n",
    "handles, labels = ax.get_legend_handles_labels()\n",
    "leg = plt.legend(handles[::-1], labels[::-1], loc=[1.1,.5])\n",
    "leg.get_frame().set_linewidth(0.0)\n",
    "ax.set_xticklabels(contingencyTable_percentage.columns,rotation=0)\n",
    "plt.title('Moral Strategy distribution across experiments')\n",
    "plt.ylabel('Percentage');\n",
    "plt.ylim([0,145])\n",
    "FigureTools.add_sig_markers(ax,relationships=[[1,2,0.03]],distScale=.4, ystart=108)\n",
    "FigureTools.add_sig_markers(ax,relationships=[[0,2,.1]],distScale=.4, ystart=125)\n",
    "plt.savefig(base_dir + '/Results/Figure5.pdf',bbox_inches='tight')"
   ]
  }
 ],
 "metadata": {
  "anaconda-cloud": {},
  "kernelspec": {
   "display_name": "Python 3",
   "language": "python",
   "name": "python3"
  },
  "language_info": {
   "codemirror_mode": {
    "name": "ipython",
    "version": 3
   },
   "file_extension": ".py",
   "mimetype": "text/x-python",
   "name": "python",
   "nbconvert_exporter": "python",
   "pygments_lexer": "ipython3",
   "version": "3.8.0"
  }
 },
 "nbformat": 4,
 "nbformat_minor": 1
}
