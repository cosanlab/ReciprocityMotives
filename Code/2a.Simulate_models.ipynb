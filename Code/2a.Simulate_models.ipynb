{
 "cells": [
  {
   "cell_type": "code",
   "execution_count": 3,
   "metadata": {},
   "outputs": [
    {
     "name": "stdout",
     "output_type": "stream",
     "text": [
      "/Users/jeroen/Dropbox (Brown)/PhD/0. Working folder/HMTG_followUp_final/ShareDataCode\n",
      "/Users/jeroen/Dropbox (Brown)/PhD/0. Working folder/HMTG_followUp_final/ShareDataCode/Code/Functions\n"
     ]
    }
   ],
   "source": [
    "%matplotlib inline\n",
    "\n",
    "# Packages\n",
    "import os, glob, scipy, sys\n",
    "import numpy as np\n",
    "import pandas as pd\n",
    "import matplotlib.pyplot as plt\n",
    "import seaborn as sns\n",
    "\n",
    "# Project directory\n",
    "base_dir = os.path.realpath('..')\n",
    "print(base_dir)\n",
    "\n",
    "# Project-specific functions\n",
    "funDir = os.path.join(base_dir,'Code/Functions')\n",
    "print(funDir)\n",
    "sys.path.append(funDir)\n",
    "import choiceModels, costFunctions, penalizedModelFit, simulateModel\n",
    "\n",
    "# General-use python functions\n",
    "dbPath = '/'.join(base_dir.split('/')[0:4])\n",
    "sys.path.append('%s/Python'%dbPath)\n",
    "import FigureTools"
   ]
  },
  {
   "cell_type": "markdown",
   "metadata": {},
   "source": [
    "## Define simulations"
   ]
  },
  {
   "cell_type": "code",
   "execution_count": 13,
   "metadata": {},
   "outputs": [
    {
     "name": "stdout",
     "output_type": "stream",
     "text": [
      "10201\n",
      "   theta    phi\n",
      "0    0.0 -0.100\n",
      "1    0.0 -0.098\n",
      "2    0.0 -0.096\n",
      "3    0.0 -0.094\n",
      "4    0.0 -0.092\n"
     ]
    }
   ],
   "source": [
    "# Create theta-phi space\n",
    "decimals = int(np.log10(precision)+1)\n",
    "if model == 'MP_ppSOE':\n",
    "    phi = np.around(np.arange(-0.1,0.10001,0.2/precision).astype('float'),decimals=decimals)#[-.1,0,.1]\n",
    "    theta = np.around(np.arange(0,.50001,.5/precision).astype('float'),decimals=decimals)#[0,.1,.2,.3,.4,.5,.6]\n",
    "    phiLen = len(phi)\n",
    "    thetaLen = len(theta)\n",
    "    phi[np.floor(len(phi)/2).astype(int)]=0\n",
    "    thetaPhi = np.repeat(theta,phiLen)\n",
    "    thetaPhi = pd.DataFrame(thetaPhi)\n",
    "    thetaPhi.columns = ['theta']\n",
    "    thetaPhi['phi'] = np.tile(phi,thetaLen)\n",
    "    print (len(thetaPhi))\n",
    "    print (thetaPhi.head())"
   ]
  },
  {
   "cell_type": "markdown",
   "metadata": {},
   "source": [
    "## Study 1"
   ]
  },
  {
   "cell_type": "code",
   "execution_count": 21,
   "metadata": {},
   "outputs": [],
   "source": [
    "def simulate_data(model = 'MP_ppSOE',theta=-99, phi=-99,multipliers = [2,4,6],investments=np.arange(1,11)):\n",
    "    modelDict = {'MP':choiceModels.MP_model,'IA':choiceModels.IA_model,\n",
    "                 'GA':choiceModels.GA_model,'GR':choiceModels.GR_model,\n",
    "                'MP_ppSOE':choiceModels.MP_model_ppSOE, 'GA_ppSOE':choiceModels.GA_model_ppSOE}\n",
    "    baseMult = multipliers[1]\n",
    "    simulations = pd.DataFrame(columns=['model','inv','mult','baseMult','exp','ret','theta','phi'])\n",
    "    for mult in multipliers:\n",
    "        for inv in investments:\n",
    "            exp = baseMult/2*inv\n",
    "#             exp = np.maximum(.5*(10-inv+inv*baseMult)-(10-inv),0)\n",
    "            ret = modelDict[model](inv,mult,baseMult,exp,theta,phi)\n",
    "            simulations = simulations.append(pd.DataFrame(\n",
    "                [[model,inv,mult,baseMult,exp,ret,theta,phi]],\n",
    "                columns=simulations.columns))\n",
    "    return simulations"
   ]
  },
  {
   "cell_type": "code",
   "execution_count": 7,
   "metadata": {},
   "outputs": [],
   "source": [
    "study = 1\n",
    "model = 'MP_ppSOE'\n",
    "precision = 100"
   ]
  },
  {
   "cell_type": "code",
   "execution_count": 8,
   "metadata": {},
   "outputs": [
    {
     "data": {
      "text/html": [
       "<div>\n",
       "<style scoped>\n",
       "    .dataframe tbody tr th:only-of-type {\n",
       "        vertical-align: middle;\n",
       "    }\n",
       "\n",
       "    .dataframe tbody tr th {\n",
       "        vertical-align: top;\n",
       "    }\n",
       "\n",
       "    .dataframe thead th {\n",
       "        text-align: right;\n",
       "    }\n",
       "</style>\n",
       "<table border=\"1\" class=\"dataframe\">\n",
       "  <thead>\n",
       "    <tr style=\"text-align: right;\">\n",
       "      <th></th>\n",
       "      <th>sub</th>\n",
       "      <th>block</th>\n",
       "      <th>trial</th>\n",
       "      <th>inv</th>\n",
       "      <th>baseMult</th>\n",
       "      <th>mult</th>\n",
       "      <th>exp</th>\n",
       "      <th>ret</th>\n",
       "    </tr>\n",
       "  </thead>\n",
       "  <tbody>\n",
       "    <tr>\n",
       "      <th>0</th>\n",
       "      <td>1</td>\n",
       "      <td>1</td>\n",
       "      <td>1</td>\n",
       "      <td>9</td>\n",
       "      <td>4</td>\n",
       "      <td>4</td>\n",
       "      <td>18</td>\n",
       "      <td>18</td>\n",
       "    </tr>\n",
       "    <tr>\n",
       "      <th>1</th>\n",
       "      <td>1</td>\n",
       "      <td>1</td>\n",
       "      <td>2</td>\n",
       "      <td>6</td>\n",
       "      <td>4</td>\n",
       "      <td>6</td>\n",
       "      <td>10</td>\n",
       "      <td>10</td>\n",
       "    </tr>\n",
       "    <tr>\n",
       "      <th>2</th>\n",
       "      <td>1</td>\n",
       "      <td>1</td>\n",
       "      <td>3</td>\n",
       "      <td>4</td>\n",
       "      <td>4</td>\n",
       "      <td>4</td>\n",
       "      <td>5</td>\n",
       "      <td>4</td>\n",
       "    </tr>\n",
       "    <tr>\n",
       "      <th>3</th>\n",
       "      <td>1</td>\n",
       "      <td>1</td>\n",
       "      <td>4</td>\n",
       "      <td>5</td>\n",
       "      <td>4</td>\n",
       "      <td>2</td>\n",
       "      <td>8</td>\n",
       "      <td>2</td>\n",
       "    </tr>\n",
       "    <tr>\n",
       "      <th>4</th>\n",
       "      <td>1</td>\n",
       "      <td>1</td>\n",
       "      <td>5</td>\n",
       "      <td>3</td>\n",
       "      <td>4</td>\n",
       "      <td>6</td>\n",
       "      <td>2</td>\n",
       "      <td>3</td>\n",
       "    </tr>\n",
       "  </tbody>\n",
       "</table>\n",
       "</div>"
      ],
      "text/plain": [
       "   sub  block  trial  inv  baseMult  mult  exp  ret\n",
       "0    1      1      1    9         4     4   18   18\n",
       "1    1      1      2    6         4     6   10   10\n",
       "2    1      1      3    4         4     4    5    4\n",
       "3    1      1      4    5         4     2    8    2\n",
       "4    1      1      5    3         4     6    2    3"
      ]
     },
     "execution_count": 8,
     "metadata": {},
     "output_type": "execute_result"
    }
   ],
   "source": [
    "dat = pd.read_csv(os.path.join(base_dir,'Data/Study1/HMTG/allDataLong.csv'),header=None,index_col=None)\n",
    "dat.columns = ['sub','block','trial','inv','baseMult','mult','exp','ret']\n",
    "dat = dat.loc[dat['inv']>0,:]\n",
    "dat.head()"
   ]
  },
  {
   "cell_type": "code",
   "execution_count": 9,
   "metadata": {},
   "outputs": [
    {
     "name": "stderr",
     "output_type": "stream",
     "text": [
      "/Users/jeroen/anaconda3/envs/hmtg_fu/lib/python3.8/site-packages/seaborn/categorical.py:3666: UserWarning: The `factorplot` function has been renamed to `catplot`. The original name will be removed in a future release. Please update your code. Note that the default `kind` in `factorplot` (`'point'`) has changed `'strip'` in `catplot`.\n",
      "  warnings.warn(msg)\n"
     ]
    },
    {
     "data": {
      "text/plain": [
       "<seaborn.axisgrid.FacetGrid at 0x7ffbea1c1b20>"
      ]
     },
     "execution_count": 9,
     "metadata": {},
     "output_type": "execute_result"
    },
    {
     "data": {
      "image/png": "[encoded data removed]",
      "text/plain": [
       "<Figure size 1122.38x360 with 3 Axes>"
      ]
     },
     "metadata": {
      "needs_background": "light"
     },
     "output_type": "display_data"
    }
   ],
   "source": [
    "# Test\n",
    "theta = .1\n",
    "model = 'MP_ppSOE'\n",
    "sims = simulate_data(model=model,theta=theta,phi=.1).append(simulate_data(model=model,theta=theta,phi=0)\n",
    "        ).append(simulate_data(model=model,theta=theta,phi=-.1))\n",
    "sns.factorplot(data=sims,x='inv',y='ret',hue='mult',col='phi')"
   ]
  },
  {
   "cell_type": "code",
   "execution_count": 11,
   "metadata": {
    "scrolled": true
   },
   "outputs": [
    {
     "name": "stdout",
     "output_type": "stream",
     "text": [
      "(76, 3)\n",
      "[ 1  2  3  4  5  6  7  8  9 10] [2 4 6]\n",
      "0\n",
      "\n",
      "(10201, 30)\n",
      "(10201, 76)\n",
      "(76, 3)\n",
      "[ 1  2  3  4  5  6  7  8  9 10] [4 6 8]\n",
      "0\n",
      "\n",
      "(10201, 30)\n",
      "(10201, 76)\n"
     ]
    }
   ],
   "source": [
    "# Run simulations\n",
    "for baseMult in [4,6]:\n",
    "    trialSet = dat.loc[(dat['sub']==1) & (dat['baseMult']==baseMult),['inv','baseMult','mult']]\n",
    "    trialSet = trialSet.sort_values(by=['mult','inv'])\n",
    "    print (trialSet.shape)\n",
    "    multipliers = np.unique(trialSet['mult'])\n",
    "    investments = np.unique(trialSet['inv'])\n",
    "    print (investments,multipliers)\n",
    "    simulations_short = np.zeros((len(thetaPhi),30))\n",
    "    simulations_long = np.zeros((len(thetaPhi),trialSet.shape[0]))\n",
    "    for i in range(len(thetaPhi)):\n",
    "        if np.mod(i,precision)==0:\n",
    "            print (i),\n",
    "        theta = thetaPhi.iloc[i,0]\n",
    "        phi = thetaPhi.iloc[i,1]\n",
    "        singleSim = simulate_data(model=model,theta=theta,phi=phi,multipliers=multipliers,investments=investments)\n",
    "        simulations_short[i,:] = singleSim['ret']\n",
    "        simulations_long[i,:] = trialSet.merge(singleSim,on=['inv','mult'])['ret'] # Expand to full trial set\n",
    "    print ('')\n",
    "    print (simulations_short.shape)\n",
    "    print (simulations_long.shape)\n",
    "\n",
    "    pd.DataFrame(simulations_short).to_csv(base_dir +\n",
    "            '/Data/Study%i/ComputationalModel/Simulations-short_study-%i_baseMult-%i_model-%s_precision-%i.csv'%(\n",
    "                study,study,baseMult,model,precision))\n",
    "    pd.DataFrame(simulations_long).to_csv(base_dir +\n",
    "            '/Data/Study%i/ComputationalModel/Simulations/Simulations-long_study-%i_baseMult-%i_model-%s_precision-%i.csv'%(\n",
    "                study,study,baseMult,model,precision))"
   ]
  },
  {
   "cell_type": "markdown",
   "metadata": {},
   "source": [
    "## Study 2"
   ]
  },
  {
   "cell_type": "code",
   "execution_count": 19,
   "metadata": {},
   "outputs": [],
   "source": [
    "def simulate_data(model = 'MP',theta=-99, phi=-99,multipliers = [2,4,6],investments=np.arange(1,11)):\n",
    "    modelDict = {'MP':choiceModels.MP_model,'IA':choiceModels.IA_model,\n",
    "                 'GA':choiceModels.GA_model,'GR':choiceModels.GR_model,\n",
    "                'MP_ppSOE':choiceModels.MP_model_ppSOE, 'GA_ppSOE':choiceModels.GA_model_ppSOE}\n",
    "    mult = multipliers[1]\n",
    "    simulations = pd.DataFrame(columns=['model','inv','mult','belMult','exp','ret','theta','phi'])\n",
    "    for belMult in multipliers:\n",
    "        for inv in investments:\n",
    "            exp = belMult/2*inv\n",
    "            ret = modelDict[model](inv,mult,belMult,exp,theta,phi)\n",
    "            simulations = simulations.append(pd.DataFrame(\n",
    "                [[model,inv,mult,belMult,exp,ret,theta,phi]],\n",
    "                columns=simulations.columns))\n",
    "    return simulations"
   ]
  },
  {
   "cell_type": "code",
   "execution_count": 10,
   "metadata": {},
   "outputs": [],
   "source": [
    "study = 2\n",
    "model = 'MP_ppSOE'\n",
    "precision = 100"
   ]
  },
  {
   "cell_type": "code",
   "execution_count": 15,
   "metadata": {},
   "outputs": [
    {
     "data": {
      "text/html": [
       "<div>\n",
       "<style scoped>\n",
       "    .dataframe tbody tr th:only-of-type {\n",
       "        vertical-align: middle;\n",
       "    }\n",
       "\n",
       "    .dataframe tbody tr th {\n",
       "        vertical-align: top;\n",
       "    }\n",
       "\n",
       "    .dataframe thead th {\n",
       "        text-align: right;\n",
       "    }\n",
       "</style>\n",
       "<table border=\"1\" class=\"dataframe\">\n",
       "  <thead>\n",
       "    <tr style=\"text-align: right;\">\n",
       "      <th></th>\n",
       "      <th>sub</th>\n",
       "      <th>trial</th>\n",
       "      <th>inv</th>\n",
       "      <th>mult</th>\n",
       "      <th>belMult</th>\n",
       "      <th>ret</th>\n",
       "      <th>exp</th>\n",
       "    </tr>\n",
       "  </thead>\n",
       "  <tbody>\n",
       "    <tr>\n",
       "      <th>1</th>\n",
       "      <td>152</td>\n",
       "      <td>1</td>\n",
       "      <td>1</td>\n",
       "      <td>4</td>\n",
       "      <td>2</td>\n",
       "      <td>0.0</td>\n",
       "      <td>0.0</td>\n",
       "    </tr>\n",
       "    <tr>\n",
       "      <th>2</th>\n",
       "      <td>152</td>\n",
       "      <td>2</td>\n",
       "      <td>4</td>\n",
       "      <td>4</td>\n",
       "      <td>4</td>\n",
       "      <td>5.0</td>\n",
       "      <td>5.0</td>\n",
       "    </tr>\n",
       "    <tr>\n",
       "      <th>3</th>\n",
       "      <td>152</td>\n",
       "      <td>3</td>\n",
       "      <td>2</td>\n",
       "      <td>4</td>\n",
       "      <td>2</td>\n",
       "      <td>0.0</td>\n",
       "      <td>0.0</td>\n",
       "    </tr>\n",
       "    <tr>\n",
       "      <th>4</th>\n",
       "      <td>152</td>\n",
       "      <td>4</td>\n",
       "      <td>10</td>\n",
       "      <td>4</td>\n",
       "      <td>2</td>\n",
       "      <td>10.0</td>\n",
       "      <td>10.0</td>\n",
       "    </tr>\n",
       "    <tr>\n",
       "      <th>5</th>\n",
       "      <td>152</td>\n",
       "      <td>5</td>\n",
       "      <td>6</td>\n",
       "      <td>4</td>\n",
       "      <td>2</td>\n",
       "      <td>8.0</td>\n",
       "      <td>4.0</td>\n",
       "    </tr>\n",
       "  </tbody>\n",
       "</table>\n",
       "</div>"
      ],
      "text/plain": [
       "   sub  trial  inv  mult  belMult   ret   exp\n",
       "1  152      1    1     4        2   0.0   0.0\n",
       "2  152      2    4     4        4   5.0   5.0\n",
       "3  152      3    2     4        2   0.0   0.0\n",
       "4  152      4   10     4        2  10.0  10.0\n",
       "5  152      5    6     4        2   8.0   4.0"
      ]
     },
     "execution_count": 15,
     "metadata": {},
     "output_type": "execute_result"
    }
   ],
   "source": [
    "dat = pd.read_csv(os.path.join(base_dir,'Data/Study2/HMTG/allDataLong.csv'),header=0,index_col=0)\n",
    "dat = dat.loc[dat['inv']>0,:]\n",
    "dat.head()"
   ]
  },
  {
   "cell_type": "code",
   "execution_count": 20,
   "metadata": {},
   "outputs": [
    {
     "name": "stdout",
     "output_type": "stream",
     "text": [
      "(76, 2)\n",
      "[ 1  2  3  4  5  6  7  8  9 10] [2 4 6]\n",
      "0\n",
      "\n",
      "(10201, 30)\n",
      "(10201, 76)\n"
     ]
    }
   ],
   "source": [
    "# Run simulations\n",
    "trialSet = dat.loc[(dat['sub']==152),['inv','belMult']]\n",
    "trialSet = trialSet.sort_values(by=['belMult','inv'])\n",
    "print (trialSet.shape)\n",
    "multipliers = np.unique(trialSet['belMult'])\n",
    "investments = np.unique(trialSet['inv'])\n",
    "print (investments,multipliers)\n",
    "simulations_short = np.zeros((len(thetaPhi),30))\n",
    "simulations_long = np.zeros((len(thetaPhi),trialSet.shape[0]))\n",
    "for i in range(len(thetaPhi)):\n",
    "    if np.mod(i,100)==0:\n",
    "        print (i),\n",
    "    theta = thetaPhi.iloc[i,0]\n",
    "    phi = thetaPhi.iloc[i,1]\n",
    "    singleSim = simulate_data(model=model,theta=theta,phi=phi,multipliers=multipliers,investments=investments)\n",
    "    simulations_short[i,:] = singleSim['ret']\n",
    "    simulations_long[i,:] = trialSet.merge(singleSim,on=['inv','belMult'])['ret'] # Expand to full trial set\n",
    "print ('')\n",
    "print (simulations_short.shape)\n",
    "print (simulations_long.shape)"
   ]
  },
  {
   "cell_type": "code",
   "execution_count": null,
   "metadata": {},
   "outputs": [],
   "source": [
    "pd.DataFrame(simulations_short).to_csv(base_dir +\n",
    "            '/Data/Study2/ComputationalModel/Simulations-short_study-2_model-%s_precision-%i.csv'%(model,precision))\n",
    "pd.DataFrame(simulations_long).to_csv(base_dir +\n",
    "            '/Data/Study2/ComputationalModel/Simulations-long_study-2_model-%s_precision-%i.csv'%(model,precision))"
   ]
  }
 ],
 "metadata": {
  "anaconda-cloud": {},
  "kernelspec": {
   "display_name": "Python 3",
   "language": "python",
   "name": "python3"
  },
  "language_info": {
   "codemirror_mode": {
    "name": "ipython",
    "version": 3
   },
   "file_extension": ".py",
   "mimetype": "text/x-python",
   "name": "python",
   "nbconvert_exporter": "python",
   "pygments_lexer": "ipython3",
   "version": "3.8.0"
  }
 },
 "nbformat": 4,
 "nbformat_minor": 2
}
