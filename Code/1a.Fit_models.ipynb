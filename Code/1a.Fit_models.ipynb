{
 "cells": [
  {
   "cell_type": "code",
   "execution_count": 4,
   "metadata": {},
   "outputs": [
    {
     "name": "stdout",
     "output_type": "stream",
     "text": [
      "/Users/jeroen/Dropbox (Brown)/PhD/0. Working folder/HMTG_followUp_final/ShareDataCode\n",
      "/Users/jeroen/Dropbox (Brown)/PhD/0. Working folder/HMTG_followUp_final/ShareDataCode/Code/Functions\n"
     ]
    }
   ],
   "source": [
    "%matplotlib inline\n",
    "\n",
    "# Packages\n",
    "import os, glob, scipy, sys\n",
    "import numpy as np\n",
    "import pandas as pd\n",
    "import matplotlib.pyplot as plt\n",
    "import seaborn as sns\n",
    "\n",
    "# Project directory\n",
    "base_dir = os.path.realpath('..')\n",
    "print(base_dir)\n",
    "\n",
    "# Project-specific functions\n",
    "funDir = os.path.join(base_dir,'Code/Functions')\n",
    "print(funDir)\n",
    "sys.path.append(funDir)\n",
    "import choiceModels, costFunctions, penalizedModelFit, simulateModel\n",
    "\n",
    "# General-use python functions\n",
    "dbPath = '/'.join(base_dir.split('/')[0:4])\n",
    "sys.path.append('%s/Python'%dbPath)\n",
    "import FigureTools"
   ]
  },
  {
   "cell_type": "markdown",
   "metadata": {},
   "source": [
    "## Load Data"
   ]
  },
  {
   "cell_type": "code",
   "execution_count": 5,
   "metadata": {},
   "outputs": [
    {
     "name": "stdout",
     "output_type": "stream",
     "text": [
      "16640\n",
      "16320\n",
      "102\n"
     ]
    }
   ],
   "source": [
    "study1 = pd.read_csv('%s/Data/Study1/HMTG/allDataLong.csv'%baseDir, header = None)\n",
    "study1.columns = ['sub','block','trial','inv','baseMult','mult','exp','ret']\n",
    "exclude = pd.read_csv('%s/Data/Study1/HMTG/exclude.csv'%baseDir, header = None).values.T[0]\n",
    "print(len(study1))\n",
    "study1 = study1.loc[~study1['sub'].isin(exclude),:]\n",
    "study1.head()\n",
    "print(len(study1))\n",
    "print(len(study1['sub'].unique()))"
   ]
  },
  {
   "cell_type": "markdown",
   "metadata": {},
   "source": [
    "## Fit models"
   ]
  },
  {
   "cell_type": "markdown",
   "metadata": {},
   "source": [
    "Here is some example code using the models and cost functions defined in the Functions folder:"
   ]
  },
  {
   "cell_type": "code",
   "execution_count": 33,
   "metadata": {},
   "outputs": [
    {
     "name": "stdout",
     "output_type": "stream",
     "text": [
      "[0.06412323 0.01511354] [ 0.08738989 -0.00213702] 84.0\n",
      "[0.28125205 0.05112751] [0.19277217 0.05112751] 238.5\n",
      "[0.47922263 0.0702712 ] [0.17894786 0.0702712 ] 195.0\n",
      "[ 0.03932602 -0.01090841] [0.07953587 0.00113294] 3169.5\n",
      "[ 0.03473394 -0.01667751] [0.15182059 0.00117889] 2549.0\n",
      "[0.37100653 0.0048783 ] [0.48903136 0.02674215] 3.5\n"
     ]
    }
   ],
   "source": [
    "niter = 3\n",
    "baseMult = 4\n",
    "model = costFunctions.MP_costfun_ppSOE\n",
    "modelName = 'MP_ppSOE'\n",
    "best_fits = pd.DataFrame(columns = ['sub','baseMult','model','theta','phi','SSE'])\n",
    "for sub in [1,2]:\n",
    "    # Set up fitting output dataframe:\n",
    "    sub_fits = pd.DataFrame(columns = ['sub','baseMult','model','theta','phi','SSE'])\n",
    "    # Select subject data, keep only trials with nonzero investment:\n",
    "    subDat = study1.query('sub == @sub and baseMult == @baseMult and inv > 0').copy().reset_index(drop=True)\n",
    "    # Fit model between parameters on domains [0,.5] (theta) and [-.1,.1] (phi)\n",
    "    bounds_lower = [0,-.1]\n",
    "    bounds_upper = [.5,.1]\n",
    "    for i in range(niter):\n",
    "        randos = np.random.rand(2)\n",
    "        x0 = np.array(bounds_lower) + np.multiply(randos, np.array(bounds_upper) - np.array(bounds_lower))\n",
    "        out = least_squares(model, x0, bounds = [bounds_lower, bounds_upper],\n",
    "                 args = ([subDat]), diff_step = .005)\n",
    "        print(x0, out.x, out.cost)\n",
    "        sub_fits = sub_fits.append(pd.DataFrame([[sub,baseMult,modelName,out.x[0],out.x[1],out.cost]],\n",
    "                                               columns = sub_fits.columns))\n",
    "    # Select best-fitting parameters for participant and add to results dataframe:\n",
    "    sub_fits = sub_fits.sort_values(by = 'SSE', ascending = True)\n",
    "    best_fits = best_fits.append(sub_fits.iloc[0,:])"
   ]
  },
  {
   "cell_type": "code",
   "execution_count": 34,
   "metadata": {},
   "outputs": [
    {
     "data": {
      "text/html": [
       "<div>\n",
       "<style scoped>\n",
       "    .dataframe tbody tr th:only-of-type {\n",
       "        vertical-align: middle;\n",
       "    }\n",
       "\n",
       "    .dataframe tbody tr th {\n",
       "        vertical-align: top;\n",
       "    }\n",
       "\n",
       "    .dataframe thead th {\n",
       "        text-align: right;\n",
       "    }\n",
       "</style>\n",
       "<table border=\"1\" class=\"dataframe\">\n",
       "  <thead>\n",
       "    <tr style=\"text-align: right;\">\n",
       "      <th></th>\n",
       "      <th>sub</th>\n",
       "      <th>baseMult</th>\n",
       "      <th>model</th>\n",
       "      <th>theta</th>\n",
       "      <th>phi</th>\n",
       "      <th>SSE</th>\n",
       "    </tr>\n",
       "  </thead>\n",
       "  <tbody>\n",
       "    <tr>\n",
       "      <th>0</th>\n",
       "      <td>1</td>\n",
       "      <td>4</td>\n",
       "      <td>MP_ppSOE</td>\n",
       "      <td>0.087390</td>\n",
       "      <td>-0.002137</td>\n",
       "      <td>84.0</td>\n",
       "    </tr>\n",
       "    <tr>\n",
       "      <th>0</th>\n",
       "      <td>2</td>\n",
       "      <td>4</td>\n",
       "      <td>MP_ppSOE</td>\n",
       "      <td>0.489031</td>\n",
       "      <td>0.026742</td>\n",
       "      <td>3.5</td>\n",
       "    </tr>\n",
       "  </tbody>\n",
       "</table>\n",
       "</div>"
      ],
      "text/plain": [
       "  sub baseMult     model     theta       phi   SSE\n",
       "0   1        4  MP_ppSOE  0.087390 -0.002137  84.0\n",
       "0   2        4  MP_ppSOE  0.489031  0.026742   3.5"
      ]
     },
     "execution_count": 34,
     "metadata": {},
     "output_type": "execute_result"
    }
   ],
   "source": [
    "best_fits"
   ]
  },
  {
   "cell_type": "markdown",
   "metadata": {},
   "source": [
    "These models tend to get stuck in local minima, depending on the fitting algorithm used and settings like diff_step. To maximize the likelihood that our fitted model parameters were global maxima within the parameter bounds, we ran this fitting procedure 1000 times per participant on a computing cluster."
   ]
  }
 ],
 "metadata": {
  "kernelspec": {
   "display_name": "Python 3",
   "language": "python",
   "name": "python3"
  },
  "language_info": {
   "codemirror_mode": {
    "name": "ipython",
    "version": 3
   },
   "file_extension": ".py",
   "mimetype": "text/x-python",
   "name": "python",
   "nbconvert_exporter": "python",
   "pygments_lexer": "ipython3",
   "version": "3.8.0"
  }
 },
 "nbformat": 4,
 "nbformat_minor": 2
}
