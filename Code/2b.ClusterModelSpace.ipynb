{
 "cells": [
  {
   "cell_type": "code",
   "execution_count": 12,
   "metadata": {
    "ExecuteTime": {
     "end_time": "2017-01-18T22:17:22.559876",
     "start_time": "2017-01-18T22:17:21.409416"
    }
   },
   "outputs": [
    {
     "name": "stdout",
     "output_type": "stream",
     "text": [
      "/Users/jeroen/Dropbox (Brown)/PhD/0. Working folder/HMTG_followUp_final/ShareDataCode\n",
      "/Users/jeroen/Dropbox (Brown)/PhD/0. Working folder/HMTG_followUp_final/ShareDataCode/Code/Functions\n"
     ]
    }
   ],
   "source": [
    "%matplotlib inline\n",
    "\n",
    "# Packages\n",
    "import os, glob, scipy, sys\n",
    "import numpy as np\n",
    "import pandas as pd\n",
    "import matplotlib.pyplot as plt\n",
    "import seaborn as sns\n",
    "from scipy.cluster.hierarchy import dendrogram, linkage, fcluster\n",
    "from scipy.spatial.distance import pdist\n",
    "\n",
    "# Project directory\n",
    "base_dir = os.path.realpath('..')\n",
    "print(base_dir)\n",
    "\n",
    "# Project-specific functions\n",
    "funDir = os.path.join(base_dir,'Code/Functions')\n",
    "print(funDir)\n",
    "sys.path.append(funDir)\n",
    "import choiceModels, costFunctions, penalizedModelFit, simulateModel\n",
    "\n",
    "# General-use python functions\n",
    "dbPath = '/'.join(base_dir.split('/')[0:4])\n",
    "sys.path.append('%s/Python'%dbPath)\n",
    "import FigureTools"
   ]
  },
  {
   "cell_type": "markdown",
   "metadata": {},
   "source": [
    "## Choose study / condition"
   ]
  },
  {
   "cell_type": "code",
   "execution_count": 3,
   "metadata": {},
   "outputs": [],
   "source": [
    "study = 1\n",
    "model = 'MP_ppSOE'\n",
    "baseMult = 4\n",
    "precision = 100"
   ]
  },
  {
   "cell_type": "markdown",
   "metadata": {
    "ExecuteTime": {
     "end_time": "2017-01-18T16:27:24.231873",
     "start_time": "2017-01-18T16:27:24.228989"
    }
   },
   "source": [
    "# Load simulations"
   ]
  },
  {
   "cell_type": "code",
   "execution_count": 4,
   "metadata": {},
   "outputs": [],
   "source": [
    "if baseMult == 4:\n",
    "    cluster_threshold = 300\n",
    "else:\n",
    "    cluster_threshold = 700\n",
    "if study == 2:\n",
    "    cluster_threshold = 350"
   ]
  },
  {
   "cell_type": "code",
   "execution_count": 5,
   "metadata": {},
   "outputs": [
    {
     "name": "stdout",
     "output_type": "stream",
     "text": [
      "10201\n",
      "   theta    phi\n",
      "0    0.0 -0.100\n",
      "1    0.0 -0.098\n",
      "2    0.0 -0.096\n",
      "3    0.0 -0.094\n",
      "4    0.0 -0.092\n"
     ]
    }
   ],
   "source": [
    "# Create theta-phi space\n",
    "decimals = int(np.log10(precision)+1)\n",
    "if model == 'MP_ppSOE':\n",
    "    phi = np.around(np.arange(-0.1,0.10001,0.2/precision).astype('float'),decimals=decimals)#[-.1,0,.1]\n",
    "    theta = np.around(np.arange(0,.50001,.5/precision).astype('float'),decimals=decimals)#[0,.1,.2,.3,.4,.5,.6]\n",
    "    phiLen = len(phi)\n",
    "    thetaLen = len(theta)\n",
    "    phi[np.floor(len(phi)/2).astype(int)]=0\n",
    "    thetaPhi = np.repeat(theta,phiLen)\n",
    "    thetaPhi = pd.DataFrame(thetaPhi)\n",
    "    thetaPhi.columns = ['theta']\n",
    "    thetaPhi['phi'] = np.tile(phi,thetaLen)\n",
    "    print (len(thetaPhi))\n",
    "    print (thetaPhi.head())"
   ]
  },
  {
   "cell_type": "code",
   "execution_count": 7,
   "metadata": {},
   "outputs": [
    {
     "name": "stdout",
     "output_type": "stream",
     "text": [
      "(10201, 30)\n"
     ]
    },
    {
     "data": {
      "text/html": [
       "<div>\n",
       "<style scoped>\n",
       "    .dataframe tbody tr th:only-of-type {\n",
       "        vertical-align: middle;\n",
       "    }\n",
       "\n",
       "    .dataframe tbody tr th {\n",
       "        vertical-align: top;\n",
       "    }\n",
       "\n",
       "    .dataframe thead th {\n",
       "        text-align: right;\n",
       "    }\n",
       "</style>\n",
       "<table border=\"1\" class=\"dataframe\">\n",
       "  <thead>\n",
       "    <tr style=\"text-align: right;\">\n",
       "      <th></th>\n",
       "      <th>0</th>\n",
       "      <th>1</th>\n",
       "      <th>2</th>\n",
       "      <th>3</th>\n",
       "      <th>4</th>\n",
       "      <th>5</th>\n",
       "      <th>6</th>\n",
       "      <th>7</th>\n",
       "      <th>8</th>\n",
       "      <th>9</th>\n",
       "      <th>...</th>\n",
       "      <th>20</th>\n",
       "      <th>21</th>\n",
       "      <th>22</th>\n",
       "      <th>23</th>\n",
       "      <th>24</th>\n",
       "      <th>25</th>\n",
       "      <th>26</th>\n",
       "      <th>27</th>\n",
       "      <th>28</th>\n",
       "      <th>29</th>\n",
       "    </tr>\n",
       "  </thead>\n",
       "  <tbody>\n",
       "    <tr>\n",
       "      <th>0</th>\n",
       "      <td>2.0</td>\n",
       "      <td>4.0</td>\n",
       "      <td>6.0</td>\n",
       "      <td>8.0</td>\n",
       "      <td>10.0</td>\n",
       "      <td>12.0</td>\n",
       "      <td>14.0</td>\n",
       "      <td>16.0</td>\n",
       "      <td>18.0</td>\n",
       "      <td>20.0</td>\n",
       "      <td>...</td>\n",
       "      <td>2.0</td>\n",
       "      <td>4.0</td>\n",
       "      <td>6.0</td>\n",
       "      <td>8.0</td>\n",
       "      <td>10.0</td>\n",
       "      <td>12.0</td>\n",
       "      <td>14.0</td>\n",
       "      <td>16.0</td>\n",
       "      <td>18.0</td>\n",
       "      <td>20.0</td>\n",
       "    </tr>\n",
       "    <tr>\n",
       "      <th>1</th>\n",
       "      <td>2.0</td>\n",
       "      <td>4.0</td>\n",
       "      <td>6.0</td>\n",
       "      <td>8.0</td>\n",
       "      <td>10.0</td>\n",
       "      <td>12.0</td>\n",
       "      <td>14.0</td>\n",
       "      <td>16.0</td>\n",
       "      <td>18.0</td>\n",
       "      <td>20.0</td>\n",
       "      <td>...</td>\n",
       "      <td>2.0</td>\n",
       "      <td>4.0</td>\n",
       "      <td>6.0</td>\n",
       "      <td>8.0</td>\n",
       "      <td>10.0</td>\n",
       "      <td>12.0</td>\n",
       "      <td>14.0</td>\n",
       "      <td>16.0</td>\n",
       "      <td>18.0</td>\n",
       "      <td>20.0</td>\n",
       "    </tr>\n",
       "    <tr>\n",
       "      <th>2</th>\n",
       "      <td>2.0</td>\n",
       "      <td>4.0</td>\n",
       "      <td>6.0</td>\n",
       "      <td>8.0</td>\n",
       "      <td>10.0</td>\n",
       "      <td>12.0</td>\n",
       "      <td>14.0</td>\n",
       "      <td>16.0</td>\n",
       "      <td>18.0</td>\n",
       "      <td>20.0</td>\n",
       "      <td>...</td>\n",
       "      <td>2.0</td>\n",
       "      <td>4.0</td>\n",
       "      <td>6.0</td>\n",
       "      <td>8.0</td>\n",
       "      <td>10.0</td>\n",
       "      <td>12.0</td>\n",
       "      <td>14.0</td>\n",
       "      <td>16.0</td>\n",
       "      <td>18.0</td>\n",
       "      <td>20.0</td>\n",
       "    </tr>\n",
       "    <tr>\n",
       "      <th>3</th>\n",
       "      <td>2.0</td>\n",
       "      <td>4.0</td>\n",
       "      <td>6.0</td>\n",
       "      <td>8.0</td>\n",
       "      <td>10.0</td>\n",
       "      <td>12.0</td>\n",
       "      <td>14.0</td>\n",
       "      <td>16.0</td>\n",
       "      <td>18.0</td>\n",
       "      <td>20.0</td>\n",
       "      <td>...</td>\n",
       "      <td>2.0</td>\n",
       "      <td>4.0</td>\n",
       "      <td>6.0</td>\n",
       "      <td>8.0</td>\n",
       "      <td>10.0</td>\n",
       "      <td>12.0</td>\n",
       "      <td>14.0</td>\n",
       "      <td>16.0</td>\n",
       "      <td>18.0</td>\n",
       "      <td>20.0</td>\n",
       "    </tr>\n",
       "    <tr>\n",
       "      <th>4</th>\n",
       "      <td>2.0</td>\n",
       "      <td>4.0</td>\n",
       "      <td>6.0</td>\n",
       "      <td>8.0</td>\n",
       "      <td>10.0</td>\n",
       "      <td>12.0</td>\n",
       "      <td>14.0</td>\n",
       "      <td>16.0</td>\n",
       "      <td>18.0</td>\n",
       "      <td>20.0</td>\n",
       "      <td>...</td>\n",
       "      <td>2.0</td>\n",
       "      <td>4.0</td>\n",
       "      <td>6.0</td>\n",
       "      <td>8.0</td>\n",
       "      <td>10.0</td>\n",
       "      <td>12.0</td>\n",
       "      <td>14.0</td>\n",
       "      <td>16.0</td>\n",
       "      <td>18.0</td>\n",
       "      <td>20.0</td>\n",
       "    </tr>\n",
       "  </tbody>\n",
       "</table>\n",
       "<p>5 rows × 30 columns</p>\n",
       "</div>"
      ],
      "text/plain": [
       "     0    1    2    3     4     5     6     7     8     9  ...   20   21   22  \\\n",
       "0  2.0  4.0  6.0  8.0  10.0  12.0  14.0  16.0  18.0  20.0  ...  2.0  4.0  6.0   \n",
       "1  2.0  4.0  6.0  8.0  10.0  12.0  14.0  16.0  18.0  20.0  ...  2.0  4.0  6.0   \n",
       "2  2.0  4.0  6.0  8.0  10.0  12.0  14.0  16.0  18.0  20.0  ...  2.0  4.0  6.0   \n",
       "3  2.0  4.0  6.0  8.0  10.0  12.0  14.0  16.0  18.0  20.0  ...  2.0  4.0  6.0   \n",
       "4  2.0  4.0  6.0  8.0  10.0  12.0  14.0  16.0  18.0  20.0  ...  2.0  4.0  6.0   \n",
       "\n",
       "    23    24    25    26    27    28    29  \n",
       "0  8.0  10.0  12.0  14.0  16.0  18.0  20.0  \n",
       "1  8.0  10.0  12.0  14.0  16.0  18.0  20.0  \n",
       "2  8.0  10.0  12.0  14.0  16.0  18.0  20.0  \n",
       "3  8.0  10.0  12.0  14.0  16.0  18.0  20.0  \n",
       "4  8.0  10.0  12.0  14.0  16.0  18.0  20.0  \n",
       "\n",
       "[5 rows x 30 columns]"
      ]
     },
     "execution_count": 7,
     "metadata": {},
     "output_type": "execute_result"
    }
   ],
   "source": [
    "if study == 1:\n",
    "    simulations = pd.read_csv(base_dir +\n",
    "            '/Data/Study1/ComputationalModel/Simulations-short_study-%i_baseMult-%i_model-%s_precision-%i.csv'%(\n",
    "                study,baseMult,model,precision),index_col=0)\n",
    "elif study == 2:\n",
    "    simulations = pd.read_csv(base_dir +\n",
    "            '/Data/Study2/ComputationalModel/Simulations-short_study-%i_model-%s_precision-%i.csv'%(\n",
    "                study,model,precision),index_col=0)\n",
    "print (simulations.shape)\n",
    "simulations.head()"
   ]
  },
  {
   "cell_type": "markdown",
   "metadata": {},
   "source": [
    "## Create distance matrix"
   ]
  },
  {
   "cell_type": "markdown",
   "metadata": {},
   "source": [
    "#### Settings"
   ]
  },
  {
   "cell_type": "code",
   "execution_count": 8,
   "metadata": {},
   "outputs": [],
   "source": [
    "metric = 'sqeuclidean'"
   ]
  },
  {
   "cell_type": "code",
   "execution_count": 13,
   "metadata": {},
   "outputs": [],
   "source": [
    "sim_distance = pdist(np.array(simulations),metric)"
   ]
  },
  {
   "cell_type": "markdown",
   "metadata": {},
   "source": [
    "#### Cluster"
   ]
  },
  {
   "cell_type": "code",
   "execution_count": 14,
   "metadata": {},
   "outputs": [],
   "source": [
    "Z = linkage(sim_distance,method='average')"
   ]
  },
  {
   "cell_type": "code",
   "execution_count": 15,
   "metadata": {},
   "outputs": [],
   "source": [
    "# Dendrogram\n",
    "if precision < 20:\n",
    "    plt.figure(figsize=(25, 10))\n",
    "    plt.title('Hierarchical Clustering Dendrogram')\n",
    "    plt.xlabel('sample index')\n",
    "    plt.ylabel('distance')\n",
    "    dendrogram(\n",
    "        Z,\n",
    "        leaf_rotation=90.,  # rotates the x axis labels\n",
    "        leaf_font_size=8.,  # font size for the x axis labels\n",
    "        color_threshold=cluster_threshold,\n",
    "    )\n",
    "    plt.show()"
   ]
  },
  {
   "cell_type": "code",
   "execution_count": 17,
   "metadata": {},
   "outputs": [
    {
     "name": "stdout",
     "output_type": "stream",
     "text": [
      "[1 2 3 4 5]\n"
     ]
    }
   ],
   "source": [
    "clusters = fcluster(Z, cluster_threshold, criterion='distance')\n",
    "print (np.unique(clusters))"
   ]
  },
  {
   "cell_type": "code",
   "execution_count": 19,
   "metadata": {},
   "outputs": [
    {
     "name": "stdout",
     "output_type": "stream",
     "text": [
      "[3, 4]\n",
      "[0 1 2 3]\n"
     ]
    }
   ],
   "source": [
    "merge = None\n",
    "if study == 2:\n",
    "    merge = [1,5]\n",
    "elif study == 1:\n",
    "    if baseMult == 4:\n",
    "        merge = [3,4]\n",
    "print (merge)\n",
    "if merge is not None:\n",
    "    clusters[clusters==merge[0]] = merge[1]\n",
    "mapping = dict(zip(np.unique(clusters),range(4)))\n",
    "for clust in np.unique(clusters):\n",
    "    clusters[clusters==clust] = mapping[clust]\n",
    "print (np.unique(clusters))"
   ]
  },
  {
   "cell_type": "code",
   "execution_count": 25,
   "metadata": {},
   "outputs": [],
   "source": [
    "thetaPhi['cluster'] = clusters\n",
    "fnstring = 'Study-%i'%study\n",
    "if study == 1:\n",
    "    fnstring = fnstring + '_baseMult-%i'%baseMult\n",
    "thetaPhi.to_csv(base_dir + '/Data/Study%i/ComputationalModel'%study +\n",
    "            '/ClusteringMapMelted_%s_model-%s_precision-100.csv'%(fnstring,model))\n",
    "thetaPhiPivot = thetaPhi.pivot('theta','phi','cluster').T"
   ]
  },
  {
   "cell_type": "markdown",
   "metadata": {},
   "source": [
    "#### Plot clusters in parameter space"
   ]
  },
  {
   "cell_type": "code",
   "execution_count": 22,
   "metadata": {},
   "outputs": [
    {
     "data": {
      "image/png": "[encoded data removed]",
      "text/plain": [
       "<Figure size 432x288 with 2 Axes>"
      ]
     },
     "metadata": {
      "needs_background": "light"
     },
     "output_type": "display_data"
    }
   ],
   "source": [
    "ncols = len(np.unique(clusters))\n",
    "sns.set_palette('tab10',ncols,desat=.8)\n",
    "weight_colorsByWhites = [3,1]\n",
    "colorMap = sns.color_palette()[0:ncols]\n",
    "colorMap = list(np.add(np.multiply(colorMap,weight_colorsByWhites[0]),\n",
    "                       np.multiply(np.ones([ncols,3]),weight_colorsByWhites[1]))\n",
    "                /sum(weight_colorsByWhites))\n",
    "ax = sns.heatmap(thetaPhiPivot,cmap=colorMap,square=True)\n",
    "plt.xlabel('Theta')\n",
    "plt.ylabel('Phi')\n",
    "plt.yticks(np.arange(1,phiLen+1,(phiLen-1)/10),['%.2f'%i for i in np.arange(-.1,.1001,2/(phiLen-1))])\n",
    "plt.xticks(np.arange(1,thetaLen+1,(thetaLen-1)/10),['%.2f'%i for i in np.arange(0,.5001,5/(phiLen-1))])\n",
    "plt.title('Clusters in parameter space')\n",
    "ax.invert_yaxis()\n",
    "plt.show()"
   ]
  },
  {
   "cell_type": "code",
   "execution_count": null,
   "metadata": {},
   "outputs": [],
   "source": []
  }
 ],
 "metadata": {
  "anaconda-cloud": {},
  "kernelspec": {
   "display_name": "Python 3",
   "language": "python",
   "name": "python3"
  },
  "language_info": {
   "codemirror_mode": {
    "name": "ipython",
    "version": 3
   },
   "file_extension": ".py",
   "mimetype": "text/x-python",
   "name": "python",
   "nbconvert_exporter": "python",
   "pygments_lexer": "ipython3",
   "version": "3.8.0"
  },
  "toc": {
   "nav_menu": {
    "height": "30px",
    "width": "252px"
   },
   "navigate_menu": true,
   "number_sections": true,
   "sideBar": true,
   "threshold": 4,
   "toc_cell": false,
   "toc_section_display": "block",
   "toc_window_display": false
  }
 },
 "nbformat": 4,
 "nbformat_minor": 1
}
