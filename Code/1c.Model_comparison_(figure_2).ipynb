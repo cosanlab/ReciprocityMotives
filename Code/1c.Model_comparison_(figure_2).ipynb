{
 "cells": [
  {
   "cell_type": "code",
   "execution_count": 3,
   "metadata": {},
   "outputs": [
    {
     "name": "stdout",
     "output_type": "stream",
     "text": [
      "/Users/jeroen/Dropbox (Brown)/PhD/0. Working folder/HMTG_followUp_final/ShareDataCode\n",
      "/Users/jeroen/Dropbox (Brown)/PhD/0. Working folder/HMTG_followUp_final/ShareDataCode/Code/Functions\n"
     ]
    }
   ],
   "source": [
    "%matplotlib inline\n",
    "\n",
    "# Packages\n",
    "import os, glob, scipy, sys\n",
    "import numpy as np\n",
    "import pandas as pd\n",
    "import matplotlib.pyplot as plt\n",
    "import seaborn as sns\n",
    "\n",
    "# Project directory\n",
    "base_dir = os.path.realpath('..')\n",
    "print(base_dir)\n",
    "\n",
    "# Project-specific functions\n",
    "funDir = os.path.join(base_dir,'Code/Functions')\n",
    "print(funDir)\n",
    "sys.path.append(funDir)\n",
    "import choiceModels, costFunctions, penalizedModelFit, simulateModel\n",
    "\n",
    "# General-use python functions\n",
    "dbPath = '/'.join(base_dir.split('/')[0:4])\n",
    "sys.path.append('%s/Python'%dbPath)\n",
    "import FigureTools"
   ]
  },
  {
   "cell_type": "markdown",
   "metadata": {},
   "source": [
    "## Load data"
   ]
  },
  {
   "cell_type": "code",
   "execution_count": 5,
   "metadata": {},
   "outputs": [
    {
     "data": {
      "text/html": [
       "<div>\n",
       "<style scoped>\n",
       "    .dataframe tbody tr th:only-of-type {\n",
       "        vertical-align: middle;\n",
       "    }\n",
       "\n",
       "    .dataframe tbody tr th {\n",
       "        vertical-align: top;\n",
       "    }\n",
       "\n",
       "    .dataframe thead th {\n",
       "        text-align: right;\n",
       "    }\n",
       "</style>\n",
       "<table border=\"1\" class=\"dataframe\">\n",
       "  <thead>\n",
       "    <tr style=\"text-align: right;\">\n",
       "      <th></th>\n",
       "      <th>set</th>\n",
       "      <th>sub</th>\n",
       "      <th>model</th>\n",
       "      <th>SSE</th>\n",
       "      <th>AIC</th>\n",
       "      <th>BIC</th>\n",
       "    </tr>\n",
       "  </thead>\n",
       "  <tbody>\n",
       "    <tr>\n",
       "      <th>0</th>\n",
       "      <td>Study 1, x2-x4-x6</td>\n",
       "      <td>1</td>\n",
       "      <td>GR</td>\n",
       "      <td>7533.0</td>\n",
       "      <td>349.229109</td>\n",
       "      <td>349.229109</td>\n",
       "    </tr>\n",
       "    <tr>\n",
       "      <th>1</th>\n",
       "      <td>Study 1, x2-x4-x6</td>\n",
       "      <td>1</td>\n",
       "      <td>GA</td>\n",
       "      <td>756.0</td>\n",
       "      <td>176.595411</td>\n",
       "      <td>178.926144</td>\n",
       "    </tr>\n",
       "    <tr>\n",
       "      <th>2</th>\n",
       "      <td>Study 1, x2-x4-x6</td>\n",
       "      <td>1</td>\n",
       "      <td>GA_ppSOE</td>\n",
       "      <td>1348.0</td>\n",
       "      <td>220.548940</td>\n",
       "      <td>222.879674</td>\n",
       "    </tr>\n",
       "    <tr>\n",
       "      <th>3</th>\n",
       "      <td>Study 1, x2-x4-x6</td>\n",
       "      <td>1</td>\n",
       "      <td>IA</td>\n",
       "      <td>169.0</td>\n",
       "      <td>62.736568</td>\n",
       "      <td>65.067302</td>\n",
       "    </tr>\n",
       "    <tr>\n",
       "      <th>4</th>\n",
       "      <td>Study 1, x2-x4-x6</td>\n",
       "      <td>1</td>\n",
       "      <td>MP</td>\n",
       "      <td>168.0</td>\n",
       "      <td>64.285529</td>\n",
       "      <td>68.946995</td>\n",
       "    </tr>\n",
       "  </tbody>\n",
       "</table>\n",
       "</div>"
      ],
      "text/plain": [
       "                 set  sub     model     SSE         AIC         BIC\n",
       "0  Study 1, x2-x4-x6    1        GR  7533.0  349.229109  349.229109\n",
       "1  Study 1, x2-x4-x6    1        GA   756.0  176.595411  178.926144\n",
       "2  Study 1, x2-x4-x6    1  GA_ppSOE  1348.0  220.548940  222.879674\n",
       "3  Study 1, x2-x4-x6    1        IA   169.0   62.736568   65.067302\n",
       "4  Study 1, x2-x4-x6    1        MP   168.0   64.285529   68.946995"
      ]
     },
     "execution_count": 5,
     "metadata": {},
     "output_type": "execute_result"
    }
   ],
   "source": [
    "results_study1 = pd.read_csv(os.path.join(base_dir,'Data/Study1/ComputationalModel/Results_study1.csv'),\n",
    "                         index_col=0)\n",
    "results_study1.loc[results_study1['baseMult']==4,'set'] = 'Study 1, x2-x4-x6'\n",
    "results_study1.loc[results_study1['baseMult']==6,'set'] = 'Study 1, x4-x6-x8'\n",
    "results_study2 = pd.read_csv(os.path.join(base_dir,'Data/Study2/ComputationalModel/Results_study2.csv'),\n",
    "                         index_col=0)\n",
    "results_study2['set'] = 'Study 2'\n",
    "results_all = results_study1[['set','sub','model','SSE','AIC','BIC']].append(\n",
    "    results_study2[['set','sub','model','SSE','AIC','BIC']])\n",
    "results_all.head()"
   ]
  },
  {
   "cell_type": "markdown",
   "metadata": {},
   "source": [
    "#### Exclude near perfect fit and other exclusions"
   ]
  },
  {
   "cell_type": "code",
   "execution_count": 7,
   "metadata": {},
   "outputs": [
    {
     "data": {
      "text/plain": [
       "array([  2,   5,   7,  43,  56,  59,  83,  91,  95, 102, 159, 161, 182,\n",
       "       203])"
      ]
     },
     "execution_count": 7,
     "metadata": {},
     "output_type": "execute_result"
    }
   ],
   "source": [
    "excludeSub = np.array(results_all.loc[results_all['SSE']<10,'sub'].unique())\n",
    "excludeSub\n",
    "exclude1 = np.array(pd.read_csv(os.path.join(base_dir,'Data/Study1/HMTG/exclude.csv'),index_col=None,header=None).T)[0]\n",
    "excludeSub = np.hstack([excludeSub,exclude1])\n",
    "exclude2 = np.array(pd.read_csv(os.path.join(base_dir,'Data/Study2/HMTG/exclude.csv'),index_col=0,header=0).T)[0]\n",
    "excludeSub = np.hstack([excludeSub,exclude2])\n",
    "excludeSub = np.unique(excludeSub)\n",
    "excludeSub"
   ]
  },
  {
   "cell_type": "code",
   "execution_count": 8,
   "metadata": {},
   "outputs": [
    {
     "data": {
      "text/html": [
       "<div>\n",
       "<style scoped>\n",
       "    .dataframe tbody tr th:only-of-type {\n",
       "        vertical-align: middle;\n",
       "    }\n",
       "\n",
       "    .dataframe tbody tr th {\n",
       "        vertical-align: top;\n",
       "    }\n",
       "\n",
       "    .dataframe thead th {\n",
       "        text-align: right;\n",
       "    }\n",
       "</style>\n",
       "<table border=\"1\" class=\"dataframe\">\n",
       "  <thead>\n",
       "    <tr style=\"text-align: right;\">\n",
       "      <th></th>\n",
       "      <th>set</th>\n",
       "      <th>sub</th>\n",
       "      <th>model</th>\n",
       "      <th>SSE</th>\n",
       "      <th>AIC</th>\n",
       "      <th>BIC</th>\n",
       "    </tr>\n",
       "  </thead>\n",
       "  <tbody>\n",
       "    <tr>\n",
       "      <th>0</th>\n",
       "      <td>Study 1, x2-x4-x6</td>\n",
       "      <td>1</td>\n",
       "      <td>GR</td>\n",
       "      <td>7533.0</td>\n",
       "      <td>349.229109</td>\n",
       "      <td>349.229109</td>\n",
       "    </tr>\n",
       "    <tr>\n",
       "      <th>1</th>\n",
       "      <td>Study 1, x2-x4-x6</td>\n",
       "      <td>1</td>\n",
       "      <td>GA</td>\n",
       "      <td>756.0</td>\n",
       "      <td>176.595411</td>\n",
       "      <td>178.926144</td>\n",
       "    </tr>\n",
       "    <tr>\n",
       "      <th>2</th>\n",
       "      <td>Study 1, x2-x4-x6</td>\n",
       "      <td>1</td>\n",
       "      <td>GA_ppSOE</td>\n",
       "      <td>1348.0</td>\n",
       "      <td>220.548940</td>\n",
       "      <td>222.879674</td>\n",
       "    </tr>\n",
       "    <tr>\n",
       "      <th>3</th>\n",
       "      <td>Study 1, x2-x4-x6</td>\n",
       "      <td>1</td>\n",
       "      <td>IA</td>\n",
       "      <td>169.0</td>\n",
       "      <td>62.736568</td>\n",
       "      <td>65.067302</td>\n",
       "    </tr>\n",
       "    <tr>\n",
       "      <th>4</th>\n",
       "      <td>Study 1, x2-x4-x6</td>\n",
       "      <td>1</td>\n",
       "      <td>MP</td>\n",
       "      <td>168.0</td>\n",
       "      <td>64.285529</td>\n",
       "      <td>68.946995</td>\n",
       "    </tr>\n",
       "  </tbody>\n",
       "</table>\n",
       "</div>"
      ],
      "text/plain": [
       "                 set  sub     model     SSE         AIC         BIC\n",
       "0  Study 1, x2-x4-x6    1        GR  7533.0  349.229109  349.229109\n",
       "1  Study 1, x2-x4-x6    1        GA   756.0  176.595411  178.926144\n",
       "2  Study 1, x2-x4-x6    1  GA_ppSOE  1348.0  220.548940  222.879674\n",
       "3  Study 1, x2-x4-x6    1        IA   169.0   62.736568   65.067302\n",
       "4  Study 1, x2-x4-x6    1        MP   168.0   64.285529   68.946995"
      ]
     },
     "execution_count": 8,
     "metadata": {},
     "output_type": "execute_result"
    }
   ],
   "source": [
    "results_all = results_all.loc[~results_all['sub'].isin(excludeSub)]\n",
    "results_all.head()"
   ]
  },
  {
   "cell_type": "markdown",
   "metadata": {},
   "source": [
    "## Quick check"
   ]
  },
  {
   "cell_type": "code",
   "execution_count": 9,
   "metadata": {},
   "outputs": [
    {
     "name": "stdout",
     "output_type": "stream",
     "text": [
      "Study 1, x2-x4-x6, model GA: mean AIC = 188.36\n",
      "Study 1, x2-x4-x6, model IA: mean AIC = 121.74\n",
      "Study 1, x2-x4-x6, model MP_ppSOE: mean AIC = 112.72\n",
      "\n",
      "Study 1, x4-x6-x8, model GA: mean AIC = 208.56\n",
      "Study 1, x4-x6-x8, model IA: mean AIC = 145.79\n",
      "Study 1, x4-x6-x8, model MP_ppSOE: mean AIC = 140.66\n",
      "\n",
      "Study 2, model GA: mean AIC = 166.99\n",
      "Study 2, model IA: mean AIC = 126.26\n",
      "Study 2, model MP_ppSOE: mean AIC = 111.43\n",
      "\n"
     ]
    }
   ],
   "source": [
    "for dataset in np.unique(results_all['set']):\n",
    "    for model in ['GA','IA','MP_ppSOE']:\n",
    "        mean_AIC = results_all.loc[(results_all['set']==dataset) & (results_all['model']==model),'AIC'].mean()\n",
    "        print('%s, model %s: mean AIC = %.2f'%(dataset,model,mean_AIC))\n",
    "    print('')"
   ]
  },
  {
   "cell_type": "code",
   "execution_count": 10,
   "metadata": {},
   "outputs": [
    {
     "name": "stdout",
     "output_type": "stream",
     "text": [
      "Ttest_relResult(statistic=2.6456910922749097, pvalue=0.009572267417278029)\n",
      "\n",
      "Ttest_relResult(statistic=1.3088901986547687, pvalue=0.19379662927047084)\n",
      "\n",
      "Ttest_relResult(statistic=3.308567994275955, pvalue=0.0017069091133856554)\n",
      "\n"
     ]
    }
   ],
   "source": [
    "for dataset in np.unique(results_all['set']):\n",
    "    dat_IA = results_all.loc[(results_all['set']==dataset) & (results_all['model']=='IA'),'AIC']\n",
    "    dat_MP_ppSOE = results_all.loc[(results_all['set']==dataset) & (results_all['model']=='MP_ppSOE'),'AIC']\n",
    "    print(scipy.stats.ttest_rel(dat_IA,dat_MP_ppSOE))\n",
    "    print('')"
   ]
  },
  {
   "cell_type": "markdown",
   "metadata": {},
   "source": [
    "## Plot model fits"
   ]
  },
  {
   "cell_type": "code",
   "execution_count": 21,
   "metadata": {},
   "outputs": [
    {
     "data": {
      "image/png": "[encoded data removed]",
      "text/plain": [
       "<Figure size 864x288 with 3 Axes>"
      ]
     },
     "metadata": {},
     "output_type": "display_data"
    }
   ],
   "source": [
    "# Design\n",
    "sns.set_style('darkgrid', {\"axes.facecolor\": \".95\"})\n",
    "sns.set_palette('tab10')\n",
    "sns.set_context('talk')\n",
    "# Data\n",
    "measures = ['AIC']\n",
    "measureNames = ['AIC']\n",
    "models = ['GR','GA','IA','MP_ppSOE']\n",
    "modelNames = ['GR','GA','IA','MS']\n",
    "fig,axes = plt.subplots(nrows = len(measures), ncols = 3,figsize=[12,4],sharey=False)\n",
    "stats = pd.DataFrame(columns=['set','measure','n','t','p'])\n",
    "ystarts = [400,450,350]\n",
    "for m,measure in enumerate(measures):\n",
    "    for i,dataset in enumerate(np.unique(results_all['set'])):\n",
    "        ax = axes[i]\n",
    "        sns.barplot(data=results_all.loc[(results_all['set']==dataset) & (results_all['model'].isin(models))],\n",
    "                    x='model',y=measure,alpha=.3,errwidth=0,ax=ax)\n",
    "        sns.swarmplot(data=results_all.loc[(results_all['set']==dataset) & (results_all['model'].isin(models))],\n",
    "                    x='model',y=measure,alpha=1,s=3,ax=ax,zorder = 1)\n",
    "        sns.barplot(data=results_all.loc[(results_all['set']==dataset) & (results_all['model'].isin(models))],\n",
    "                    x='model',y=measure,errwidth=2,capsize=0.1,errcolor='k',alpha=0,ax=ax,zorder = 10)\n",
    "        ax.set(title='%s'%(dataset),\n",
    "                  xlabel='Model',ylabel=measureNames[m],xticklabels=modelNames)\n",
    "        IA = results_all.loc[(results_all['set']==dataset) & (results_all['model']=='IA'),measure]\n",
    "        MP = results_all.loc[(results_all['set']==dataset) & (results_all['model']=='MP_ppSOE'),measure]\n",
    "        out = scipy.stats.ttest_rel(IA,MP,nan_policy='omit')\n",
    "        stats = stats.append(pd.DataFrame([[dataset,measure,len(IA),out[0],out[1]]],columns=stats.columns)).reset_index(drop=True)\n",
    "        ystart = ystarts[i]\n",
    "        FigureTools.add_sig_markers(ax, relationships = [[2,3,out[1]]], ystart = ystart)#, markerType = 'pval')\n",
    "plt.suptitle('Model comparisons',y=1.03)\n",
    "plt.tight_layout()\n",
    "FigureTools.add_subplot_letter(axes[0])\n",
    "FigureTools.add_subplot_letter(axes[2],'B')\n",
    "plt.savefig(base_dir + '/Results/Figure2.pdf',bbox_inches='tight')"
   ]
  },
  {
   "cell_type": "code",
   "execution_count": 22,
   "metadata": {},
   "outputs": [
    {
     "data": {
      "text/html": [
       "<div>\n",
       "<style scoped>\n",
       "    .dataframe tbody tr th:only-of-type {\n",
       "        vertical-align: middle;\n",
       "    }\n",
       "\n",
       "    .dataframe tbody tr th {\n",
       "        vertical-align: top;\n",
       "    }\n",
       "\n",
       "    .dataframe thead th {\n",
       "        text-align: right;\n",
       "    }\n",
       "</style>\n",
       "<table border=\"1\" class=\"dataframe\">\n",
       "  <thead>\n",
       "    <tr style=\"text-align: right;\">\n",
       "      <th></th>\n",
       "      <th>set</th>\n",
       "      <th>measure</th>\n",
       "      <th>n</th>\n",
       "      <th>t</th>\n",
       "      <th>p</th>\n",
       "    </tr>\n",
       "  </thead>\n",
       "  <tbody>\n",
       "    <tr>\n",
       "      <th>0</th>\n",
       "      <td>Study 1, x2-x4-x6</td>\n",
       "      <td>AIC</td>\n",
       "      <td>94</td>\n",
       "      <td>2.645691</td>\n",
       "      <td>0.009572</td>\n",
       "    </tr>\n",
       "    <tr>\n",
       "      <th>1</th>\n",
       "      <td>Study 1, x4-x6-x8</td>\n",
       "      <td>AIC</td>\n",
       "      <td>94</td>\n",
       "      <td>1.308890</td>\n",
       "      <td>0.193797</td>\n",
       "    </tr>\n",
       "    <tr>\n",
       "      <th>2</th>\n",
       "      <td>Study 2</td>\n",
       "      <td>AIC</td>\n",
       "      <td>53</td>\n",
       "      <td>3.308568</td>\n",
       "      <td>0.001707</td>\n",
       "    </tr>\n",
       "  </tbody>\n",
       "</table>\n",
       "</div>"
      ],
      "text/plain": [
       "                 set measure   n         t         p\n",
       "0  Study 1, x2-x4-x6     AIC  94  2.645691  0.009572\n",
       "1  Study 1, x4-x6-x8     AIC  94  1.308890  0.193797\n",
       "2            Study 2     AIC  53  3.308568  0.001707"
      ]
     },
     "execution_count": 22,
     "metadata": {},
     "output_type": "execute_result"
    }
   ],
   "source": [
    "stats"
   ]
  },
  {
   "cell_type": "markdown",
   "metadata": {},
   "source": [
    "#### Test mean AIC/BIC across contexts"
   ]
  },
  {
   "cell_type": "code",
   "execution_count": 24,
   "metadata": {},
   "outputs": [
    {
     "name": "stdout",
     "output_type": "stream",
     "text": [
      "94\n",
      "Ttest_relResult(statistic=array([2.06619819]), pvalue=array([0.04159056]))\n"
     ]
    }
   ],
   "source": [
    "measure = 'AIC'\n",
    "sets = ['Study 1, x2-x4-x6','Study 1, x4-x6-x8']\n",
    "IA = results_all.loc[(results_all['set'].isin(sets)) & (results_all['model']=='IA'),\n",
    "                     ['sub','set',measure]].groupby('sub').mean()\n",
    "MP = results_all.loc[(results_all['set'].isin(sets)) & (results_all['model']=='MP_ppSOE'),\n",
    "                     ['sub','set',measure]].groupby('sub').mean()\n",
    "# IA\n",
    "out = scipy.stats.ttest_rel(IA,MP,nan_policy='omit')\n",
    "print(len(IA))\n",
    "print(out)"
   ]
  },
  {
   "cell_type": "code",
   "execution_count": 25,
   "metadata": {},
   "outputs": [
    {
     "data": {
      "text/plain": [
       "<matplotlib.axes._subplots.AxesSubplot at 0x7fde4730fe50>"
      ]
     },
     "execution_count": 25,
     "metadata": {},
     "output_type": "execute_result"
    },
    {
     "data": {
      "image/png": "[encoded data removed]",
      "text/plain": [
       "<Figure size 432x288 with 1 Axes>"
      ]
     },
     "metadata": {},
     "output_type": "display_data"
    }
   ],
   "source": [
    "sns.set_style('whitegrid');\n",
    "(IA-MP).plot(kind='hist',bins=50)"
   ]
  }
 ],
 "metadata": {
  "anaconda-cloud": {},
  "kernelspec": {
   "display_name": "Python 3",
   "language": "python",
   "name": "python3"
  },
  "language_info": {
   "codemirror_mode": {
    "name": "ipython",
    "version": 3
   },
   "file_extension": ".py",
   "mimetype": "text/x-python",
   "name": "python",
   "nbconvert_exporter": "python",
   "pygments_lexer": "ipython3",
   "version": "3.8.0"
  }
 },
 "nbformat": 4,
 "nbformat_minor": 2
}
