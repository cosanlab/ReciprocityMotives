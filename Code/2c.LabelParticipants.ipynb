{
 "cells": [
  {
   "cell_type": "code",
   "execution_count": 1,
   "metadata": {
    "ExecuteTime": {
     "end_time": "2017-01-18T22:17:22.559876",
     "start_time": "2017-01-18T22:17:21.409416"
    }
   },
   "outputs": [
    {
     "name": "stdout",
     "output_type": "stream",
     "text": [
      "/Users/jeroen/Dropbox (Brown)/PhD/0. Working folder/HMTG_followUp_final/ShareDataCode\n",
      "/Users/jeroen/Dropbox (Brown)/PhD/0. Working folder/HMTG_followUp_final/ShareDataCode/Code/Functions\n"
     ]
    }
   ],
   "source": [
    "%matplotlib inline\n",
    "\n",
    "# Packages\n",
    "import os, glob, scipy, sys\n",
    "import numpy as np\n",
    "import pandas as pd\n",
    "import matplotlib.pyplot as plt\n",
    "import seaborn as sns\n",
    "from scipy.cluster.hierarchy import dendrogram, linkage\n",
    "from scipy.spatial.distance import pdist\n",
    "\n",
    "# Project directory\n",
    "base_dir = os.path.realpath('..')\n",
    "print(base_dir)\n",
    "\n",
    "# Project-specific functions\n",
    "funDir = os.path.join(base_dir,'Code/Functions')\n",
    "print(funDir)\n",
    "sys.path.append(funDir)\n",
    "import choiceModels, costFunctions, penalizedModelFit, simulateModel\n",
    "\n",
    "# General-use python functions\n",
    "dbPath = '/'.join(base_dir.split('/')[0:4])\n",
    "sys.path.append('%s/Python'%dbPath)\n",
    "import FigureTools"
   ]
  },
  {
   "cell_type": "markdown",
   "metadata": {},
   "source": [
    "### Labeling participants based on these four clusters"
   ]
  },
  {
   "cell_type": "code",
   "execution_count": 20,
   "metadata": {},
   "outputs": [],
   "source": [
    "study = 2\n",
    "baseMult = 4\n",
    "precision = 100\n",
    "model = 'MP_ppSOE'"
   ]
  },
  {
   "cell_type": "code",
   "execution_count": 21,
   "metadata": {},
   "outputs": [
    {
     "name": "stdout",
     "output_type": "stream",
     "text": [
      "10201\n",
      "   theta    phi\n",
      "0    0.0 -0.100\n",
      "1    0.0 -0.098\n",
      "2    0.0 -0.096\n",
      "3    0.0 -0.094\n",
      "4    0.0 -0.092\n"
     ]
    }
   ],
   "source": [
    "# Create theta-phi space\n",
    "decimals = int(np.log10(precision)+1)\n",
    "if model == 'MP_ppSOE':\n",
    "    phi = np.around(np.arange(-0.1,0.10001,0.2/precision).astype('float'),decimals=decimals)#[-.1,0,.1]\n",
    "    theta = np.around(np.arange(0,.50001,.5/precision).astype('float'),decimals=decimals)#[0,.1,.2,.3,.4,.5,.6]\n",
    "    phiLen = len(phi)\n",
    "    thetaLen = len(theta)\n",
    "    phi[np.floor(len(phi)/2).astype(int)]=0\n",
    "    thetaPhi = np.repeat(theta,phiLen)\n",
    "    thetaPhi = pd.DataFrame(thetaPhi)\n",
    "    thetaPhi.columns = ['theta']\n",
    "    thetaPhi['phi'] = np.tile(phi,thetaLen)\n",
    "    print (len(thetaPhi))\n",
    "    print (thetaPhi.head())"
   ]
  },
  {
   "cell_type": "code",
   "execution_count": 22,
   "metadata": {},
   "outputs": [
    {
     "data": {
      "image/png": "[encoded data removed]",
      "text/plain": [
       "<Figure size 432x288 with 2 Axes>"
      ]
     },
     "metadata": {
      "needs_background": "light"
     },
     "output_type": "display_data"
    }
   ],
   "source": [
    "# Load clustering\n",
    "fnstring = 'Study-%i'%study\n",
    "if study == 1:\n",
    "    fnstring = fnstring + '_baseMult-%i'%baseMult\n",
    "thetaPhi = pd.read_csv(base_dir + '/Data/Study%i/ComputationalModel'%study +\n",
    "            '/ClusteringMapMelted_%s_model-%s_precision-100.csv'%(fnstring,model))\n",
    "if study == 1:\n",
    "    if baseMult == 4:\n",
    "        key = {0:'GR',1:'GA',2:'MO',3:'IA'}\n",
    "    elif baseMult == 6:\n",
    "        key = {0:'GR',1:'MO',2:'IA',3:'GA'}\n",
    "elif study == 2:\n",
    "    key = {0:'GR',1:'GA',2:'IA',3:'MO'}\n",
    "thetaPhiPivot = thetaPhi.pivot('theta','phi','cluster').T\n",
    "fig = sns.heatmap(thetaPhiPivot,square=True,cmap=sns.color_palette('tab10',4))\n",
    "fig.invert_yaxis()\n",
    "plt.show()"
   ]
  },
  {
   "cell_type": "code",
   "execution_count": 24,
   "metadata": {
    "scrolled": true
   },
   "outputs": [
    {
     "data": {
      "text/html": [
       "<div>\n",
       "<style scoped>\n",
       "    .dataframe tbody tr th:only-of-type {\n",
       "        vertical-align: middle;\n",
       "    }\n",
       "\n",
       "    .dataframe tbody tr th {\n",
       "        vertical-align: top;\n",
       "    }\n",
       "\n",
       "    .dataframe thead th {\n",
       "        text-align: right;\n",
       "    }\n",
       "</style>\n",
       "<table border=\"1\" class=\"dataframe\">\n",
       "  <thead>\n",
       "    <tr style=\"text-align: right;\">\n",
       "      <th></th>\n",
       "      <th>sub</th>\n",
       "      <th>model</th>\n",
       "      <th>theta</th>\n",
       "      <th>phi</th>\n",
       "      <th>SSE</th>\n",
       "      <th>AIC</th>\n",
       "      <th>BIC</th>\n",
       "    </tr>\n",
       "  </thead>\n",
       "  <tbody>\n",
       "    <tr>\n",
       "      <th>0</th>\n",
       "      <td>152</td>\n",
       "      <td>MP_ppSOE</td>\n",
       "      <td>0.028962</td>\n",
       "      <td>0.040325</td>\n",
       "      <td>194.0</td>\n",
       "      <td>75.221486</td>\n",
       "      <td>79.882953</td>\n",
       "    </tr>\n",
       "    <tr>\n",
       "      <th>1</th>\n",
       "      <td>153</td>\n",
       "      <td>MP_ppSOE</td>\n",
       "      <td>0.031704</td>\n",
       "      <td>0.036484</td>\n",
       "      <td>353.0</td>\n",
       "      <td>120.715838</td>\n",
       "      <td>125.377305</td>\n",
       "    </tr>\n",
       "    <tr>\n",
       "      <th>2</th>\n",
       "      <td>154</td>\n",
       "      <td>MP_ppSOE</td>\n",
       "      <td>0.030322</td>\n",
       "      <td>0.000436</td>\n",
       "      <td>437.0</td>\n",
       "      <td>136.939189</td>\n",
       "      <td>141.600656</td>\n",
       "    </tr>\n",
       "    <tr>\n",
       "      <th>3</th>\n",
       "      <td>155</td>\n",
       "      <td>MP_ppSOE</td>\n",
       "      <td>0.059885</td>\n",
       "      <td>-0.007584</td>\n",
       "      <td>730.0</td>\n",
       "      <td>175.935651</td>\n",
       "      <td>180.597117</td>\n",
       "    </tr>\n",
       "    <tr>\n",
       "      <th>4</th>\n",
       "      <td>156</td>\n",
       "      <td>MP_ppSOE</td>\n",
       "      <td>0.205909</td>\n",
       "      <td>-0.081125</td>\n",
       "      <td>408.0</td>\n",
       "      <td>131.720571</td>\n",
       "      <td>136.382038</td>\n",
       "    </tr>\n",
       "  </tbody>\n",
       "</table>\n",
       "</div>"
      ],
      "text/plain": [
       "   sub     model     theta       phi    SSE         AIC         BIC\n",
       "0  152  MP_ppSOE  0.028962  0.040325  194.0   75.221486   79.882953\n",
       "1  153  MP_ppSOE  0.031704  0.036484  353.0  120.715838  125.377305\n",
       "2  154  MP_ppSOE  0.030322  0.000436  437.0  136.939189  141.600656\n",
       "3  155  MP_ppSOE  0.059885 -0.007584  730.0  175.935651  180.597117\n",
       "4  156  MP_ppSOE  0.205909 -0.081125  408.0  131.720571  136.382038"
      ]
     },
     "execution_count": 24,
     "metadata": {},
     "output_type": "execute_result"
    }
   ],
   "source": [
    "# Load fitted parameters\n",
    "model = 'MP_ppSOE'\n",
    "fittedParams = pd.read_csv(os.path.join(base_dir,'Data/Study%i/ComputationalModel/Results_study%i.csv'%(study,study)),index_col=0)\n",
    "if study == 1:\n",
    "    fittedParams = fittedParams.loc[(fittedParams['baseMult']==baseMult)].reset_index(drop=True)\n",
    "fittedParams = fittedParams.loc[(fittedParams['model']==model)].reset_index(drop=True)\n",
    "fittedParams.head()"
   ]
  },
  {
   "cell_type": "code",
   "execution_count": 27,
   "metadata": {},
   "outputs": [
    {
     "data": {
      "text/html": [
       "<div>\n",
       "<style scoped>\n",
       "    .dataframe tbody tr th:only-of-type {\n",
       "        vertical-align: middle;\n",
       "    }\n",
       "\n",
       "    .dataframe tbody tr th {\n",
       "        vertical-align: top;\n",
       "    }\n",
       "\n",
       "    .dataframe thead th {\n",
       "        text-align: right;\n",
       "    }\n",
       "</style>\n",
       "<table border=\"1\" class=\"dataframe\">\n",
       "  <thead>\n",
       "    <tr style=\"text-align: right;\">\n",
       "      <th></th>\n",
       "      <th>sub</th>\n",
       "      <th>model</th>\n",
       "      <th>theta</th>\n",
       "      <th>phi</th>\n",
       "      <th>SSE</th>\n",
       "      <th>AIC</th>\n",
       "      <th>BIC</th>\n",
       "      <th>clust</th>\n",
       "      <th>ClustName</th>\n",
       "    </tr>\n",
       "  </thead>\n",
       "  <tbody>\n",
       "    <tr>\n",
       "      <th>0</th>\n",
       "      <td>152</td>\n",
       "      <td>MP_ppSOE</td>\n",
       "      <td>0.028962</td>\n",
       "      <td>0.040325</td>\n",
       "      <td>194.0</td>\n",
       "      <td>75.221486</td>\n",
       "      <td>79.882953</td>\n",
       "      <td>2</td>\n",
       "      <td>IA</td>\n",
       "    </tr>\n",
       "    <tr>\n",
       "      <th>1</th>\n",
       "      <td>153</td>\n",
       "      <td>MP_ppSOE</td>\n",
       "      <td>0.031704</td>\n",
       "      <td>0.036484</td>\n",
       "      <td>353.0</td>\n",
       "      <td>120.715838</td>\n",
       "      <td>125.377305</td>\n",
       "      <td>2</td>\n",
       "      <td>IA</td>\n",
       "    </tr>\n",
       "    <tr>\n",
       "      <th>2</th>\n",
       "      <td>154</td>\n",
       "      <td>MP_ppSOE</td>\n",
       "      <td>0.030322</td>\n",
       "      <td>0.000436</td>\n",
       "      <td>437.0</td>\n",
       "      <td>136.939189</td>\n",
       "      <td>141.600656</td>\n",
       "      <td>3</td>\n",
       "      <td>MO</td>\n",
       "    </tr>\n",
       "    <tr>\n",
       "      <th>3</th>\n",
       "      <td>155</td>\n",
       "      <td>MP_ppSOE</td>\n",
       "      <td>0.059885</td>\n",
       "      <td>-0.007584</td>\n",
       "      <td>730.0</td>\n",
       "      <td>175.935651</td>\n",
       "      <td>180.597117</td>\n",
       "      <td>1</td>\n",
       "      <td>GA</td>\n",
       "    </tr>\n",
       "    <tr>\n",
       "      <th>4</th>\n",
       "      <td>156</td>\n",
       "      <td>MP_ppSOE</td>\n",
       "      <td>0.205909</td>\n",
       "      <td>-0.081125</td>\n",
       "      <td>408.0</td>\n",
       "      <td>131.720571</td>\n",
       "      <td>136.382038</td>\n",
       "      <td>1</td>\n",
       "      <td>GA</td>\n",
       "    </tr>\n",
       "  </tbody>\n",
       "</table>\n",
       "</div>"
      ],
      "text/plain": [
       "   sub     model     theta       phi    SSE         AIC         BIC  clust  \\\n",
       "0  152  MP_ppSOE  0.028962  0.040325  194.0   75.221486   79.882953      2   \n",
       "1  153  MP_ppSOE  0.031704  0.036484  353.0  120.715838  125.377305      2   \n",
       "2  154  MP_ppSOE  0.030322  0.000436  437.0  136.939189  141.600656      3   \n",
       "3  155  MP_ppSOE  0.059885 -0.007584  730.0  175.935651  180.597117      1   \n",
       "4  156  MP_ppSOE  0.205909 -0.081125  408.0  131.720571  136.382038      1   \n",
       "\n",
       "  ClustName  \n",
       "0        IA  \n",
       "1        IA  \n",
       "2        MO  \n",
       "3        GA  \n",
       "4        GA  "
      ]
     },
     "metadata": {},
     "output_type": "display_data"
    }
   ],
   "source": [
    "# Add cluster to subjects\n",
    "fittedParams['clust'] = 0\n",
    "for i in range(len(fittedParams)):\n",
    "    thetaPhiDist = thetaPhi.copy()\n",
    "    thetaPhiDist['euclidist'] = np.sqrt(np.square(fittedParams['theta'][i] - thetaPhi['theta']) +\n",
    "                                        np.square(fittedParams['phi'][i] - thetaPhi['phi']))\n",
    "    nearest = np.where(thetaPhiDist['euclidist'] == min(thetaPhiDist['euclidist']))[0][0]\n",
    "    fittedParams.loc[i,'clust'] = thetaPhiDist['cluster'].iloc[nearest]\n",
    "fittedParams['ClustName'] = fittedParams['clust'].map(key)\n",
    "display (fittedParams.head())\n",
    "if study == 1:\n",
    "    fittedParams.to_csv(os.path.join(base_dir,'Data/Study1/ComputationalModel',\n",
    "                                     'ParamsClusters_study-1_baseMult-%i_model-%s_precision-%i.csv'%(\n",
    "                            baseMult,model,precision)))\n",
    "elif study == 2:\n",
    "    fittedParams.to_csv(os.path.join(base_dir,'Data/Study2/ComputationalModel',\n",
    "                            'ParamsClusters_study-2_model-%s_precision-%i.csv'%(\n",
    "                            model,precision)))"
   ]
  },
  {
   "cell_type": "code",
   "execution_count": 28,
   "metadata": {},
   "outputs": [
    {
     "data": {
      "text/plain": [
       "MO    25\n",
       "IA    17\n",
       "GA    11\n",
       "GR     2\n",
       "Name: ClustName, dtype: int64"
      ]
     },
     "execution_count": 28,
     "metadata": {},
     "output_type": "execute_result"
    }
   ],
   "source": [
    "fittedParams['ClustName'].value_counts()"
   ]
  },
  {
   "cell_type": "markdown",
   "metadata": {},
   "source": [
    "### Plot participants scattered on parameter space"
   ]
  },
  {
   "cell_type": "code",
   "execution_count": 30,
   "metadata": {},
   "outputs": [],
   "source": [
    "# Define colors\n",
    "sns.set_palette('tab10',4,desat=.8)\n",
    "weight_colorsByWhites = [3,1]\n",
    "colorMap = sns.color_palette()[0:4]\n",
    "colorMap = list(np.add(np.multiply(colorMap,weight_colorsByWhites[0]),\n",
    "                       np.multiply(np.ones([4,3]),weight_colorsByWhites[1]))\n",
    "                /sum(weight_colorsByWhites))\n",
    "markers = ['o','*','s','d']\n",
    "colors = sns.color_palette(\"tab10\", 4,desat=.9)\n",
    "edgecolors = np.divide(colorMap,1.5)\n",
    "sizes = [50,100,50,75]\n",
    "desiredOrder = ['GR','GA','IA','MO']"
   ]
  },
  {
   "cell_type": "code",
   "execution_count": 39,
   "metadata": {},
   "outputs": [],
   "source": [
    "mapTransform = dict(zip(key.keys(),[list(key.values()).index(desiredOrder[i]) for i in range(len(desiredOrder))]))\n",
    "mapTransform\n",
    "\n",
    "background = thetaPhi.copy()\n",
    "background['cluster'] = thetaPhi['cluster'].map(mapTransform)\n",
    "background = background.pivot('theta','phi','cluster').T"
   ]
  },
  {
   "cell_type": "code",
   "execution_count": 41,
   "metadata": {},
   "outputs": [
    {
     "name": "stdout",
     "output_type": "stream",
     "text": [
      "0 GR o 50\n",
      "1 GA * 100\n",
      "2 IA s 50\n",
      "3 MO d 75\n"
     ]
    },
    {
     "data": {
      "image/png": "[encoded data removed]",
      "text/plain": [
       "<Figure size 432x288 with 2 Axes>"
      ]
     },
     "metadata": {
      "needs_background": "light"
     },
     "output_type": "display_data"
    }
   ],
   "source": [
    "x_num = np.size(thetaPhiPivot,0)\n",
    "y_num = np.size(thetaPhiPivot,1)\n",
    "x_range = np.float(thetaPhiPivot.columns[x_num-1])-np.float(thetaPhiPivot.columns[0])\n",
    "y_range = np.float(thetaPhiPivot.index[y_num-1])-np.float(thetaPhiPivot.index[0])\n",
    "y_start = 0.1\n",
    "\n",
    "fig = plt.figure()\n",
    "ax = fig.add_subplot(111, aspect='equal')\n",
    "sns.heatmap(background,ax=ax,cmap=colorMap)\n",
    "ax.set_title('Clusters in parameter space')\n",
    "ax.set_xlabel('Theta')\n",
    "ax.set_ylabel('Phi')\n",
    "ax.invert_yaxis()\n",
    "plt.yticks(np.arange(0.5,phiLen+1,(phiLen-1)/10),['%.2f'%i for i in np.arange(-.1,.1001,.2/(phiLen-1)*10)])\n",
    "plt.xticks(np.arange(0.5,thetaLen+1,(thetaLen-1)/10),['%.2f'%i for i in np.arange(0,.5001,.5/(phiLen-1)*10)])\n",
    "\n",
    "for clustInd,clustName in enumerate(desiredOrder):\n",
    "    marker = markers[clustInd]; color = colors[clustInd];\n",
    "    size = sizes[clustInd]; edgecolor = edgecolors[clustInd];\n",
    "    print (clustInd,clustName,marker,size)\n",
    "    thetaCur = fittedParams['theta'][fittedParams['ClustName']==clustName]\n",
    "    phiCur = fittedParams['phi'][fittedParams['ClustName']==clustName]\n",
    "    ax.scatter(x=.5+thetaCur/x_range*(x_num-1)+np.random.rand(1),y=.5+(y_start+phiCur)/y_range*(y_num-1),\n",
    "               marker=marker,color=color,edgecolor=edgecolor,s=size,lw=1)"
   ]
  }
 ],
 "metadata": {
  "anaconda-cloud": {},
  "kernelspec": {
   "display_name": "Python 3",
   "language": "python",
   "name": "python3"
  },
  "language_info": {
   "codemirror_mode": {
    "name": "ipython",
    "version": 3
   },
   "file_extension": ".py",
   "mimetype": "text/x-python",
   "name": "python",
   "nbconvert_exporter": "python",
   "pygments_lexer": "ipython3",
   "version": "3.8.0"
  },
  "toc": {
   "nav_menu": {
    "height": "30px",
    "width": "252px"
   },
   "navigate_menu": true,
   "number_sections": true,
   "sideBar": true,
   "threshold": 4,
   "toc_cell": false,
   "toc_section_display": "block",
   "toc_window_display": false
  }
 },
 "nbformat": 4,
 "nbformat_minor": 1
}
